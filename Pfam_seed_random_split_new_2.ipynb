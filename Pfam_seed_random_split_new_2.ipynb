{
 "cells": [
  {
   "cell_type": "markdown",
   "metadata": {
    "colab_type": "text",
    "id": "TJDdoNct1D_A"
   },
   "source": [
    "# Protein Family Classification"
   ]
  },
  {
   "cell_type": "markdown",
   "metadata": {
    "colab_type": "text",
    "id": "y-h-XV2u1Nvp"
   },
   "source": [
    "## 1.1 Description"
   ]
  },
  {
   "cell_type": "markdown",
   "metadata": {
    "colab_type": "text",
    "id": "cnGStduX1P7T"
   },
   "source": [
    "The directory contains data to train a model to predict the function of protein domains, based on the PFam dataset.\n",
    "\n",
    "Domains are functional sub-parts of proteins; much like images in ImageNet are pre segmented to contain exactly one object class, this data is presegmented to contain exactly and only one domain.\n",
    "\n",
    "The purpose of the dataset is to repose the PFam seed dataset as a multiclass classification machine learning task.\n",
    "\n",
    "The task is: given the amino acid sequence of the protein domain, predict which class it belongs to. There are about 1 million training examples, and 18,000 output classes."
   ]
  },
  {
   "cell_type": "markdown",
   "metadata": {
    "colab_type": "text",
    "id": "c9-atZLp1P0V"
   },
   "source": [
    "## Problem Statement:\n",
    "<br>\n",
    "Given the amino acid sequence of the protein domain, predict which class it belongs to. "
   ]
  },
  {
   "cell_type": "markdown",
   "metadata": {
    "colab_type": "text",
    "id": "Kyv_2dVo1Pn8"
   },
   "source": [
    "#### 1.2 Sources\n",
    "\n",
    "https://www.kaggle.com/googleai/pfam-seed-random-split"
   ]
  },
  {
   "cell_type": "markdown",
   "metadata": {
    "colab_type": "text",
    "id": "KF9U3g3y2Hqg"
   },
   "source": [
    "## 2. Data Overview "
   ]
  },
  {
   "cell_type": "markdown",
   "metadata": {
    "colab_type": "text",
    "id": "zLZLDWg-2Hn7"
   },
   "source": [
    "The approach used to partition the data into training/dev/testing folds is a random split.\n",
    "\n",
    "\n",
    "*   Training data should be used to train your models.\n",
    "*   Dev (development) data should be used in a close validation loop (maybe for hyperparameter tuning or model validation).\n",
    "*  Test data should be reserved for much less frequent evaluations - this helps avoid overfitting on your test data, as it should only be used infrequently.\n",
    "\n",
    "\n",
    "\n"
   ]
  },
  {
   "cell_type": "markdown",
   "metadata": {
    "colab_type": "text",
    "id": "TKVfj38q2Hkn"
   },
   "source": [
    "Each fold (train, dev, test) has a number of files in it. Each of those files contains csv on each line, which has the following fields:\n",
    "\n",
    "*   sequence: HWLQMRDSMNTYNNMVNRCFATCIRSFQEKKVNAEEMDCTKRCVTKFVGYSQRVALRFAE\n",
    "\n",
    "*   family_accession: PF02953.15\n",
    "\n",
    "*   sequence_name: C5K6N5_PERM5/28-87\n",
    "\n",
    "*   aligned_sequence: ....HWLQMRDSMNTYNNMVNRCFATCI...........RS.F....QEKKVNAEE.....MDCT....KRCVTKFVGYSQRVALRFAE \n",
    "\n",
    "*   family_id: zf-Tim10_DDP"
   ]
  },
  {
   "cell_type": "markdown",
   "metadata": {
    "colab_type": "text",
    "id": "cuwQkFxZ2Hh8"
   },
   "source": [
    "#### Description of fields: - \n",
    "\n",
    "*   sequence: These are usually the input features to your model. Amino acid sequence for this domain. There are 20 very common amino acids (frequency > 1,000,000), and 4 amino acids that are quite uncommon: X, U, B, O, Z. \n",
    "\n",
    "*  family_accession: These are usually the labels for your model. Accession number in form PFxxxxx.y (Pfam), where xxxxx is the family accession, and y is the version number. Some values of y are greater than ten, and so 'y' has two digits.\n",
    "\n",
    "\n",
    "\n",
    "*  family_id: One word name for family\n",
    "* sequence_name: Sequence name, in the form \"$uniprot_accession_id/$start_index-$end_index\".\n",
    "\n",
    "\n",
    "*   aligned_sequence: Contains a single sequence from the multiple sequence alignment (with the rest of the members of the family in seed, with gaps retained.\n",
    "*   Generally, the family_accession field is the label, and the sequence (or aligned sequence) is the training feature."
   ]
  },
  {
   "cell_type": "markdown",
   "metadata": {
    "colab_type": "text",
    "id": "npRxyaXp4lOZ"
   },
   "source": [
    "### 2.2.2 Performance Metric\n",
    "\n",
    "Metric(s): Micro F1 score, Accuracy\n",
    "\n",
    "source : [Mean F Score](https://www.kaggle.com/wiki/MeanFScore/history/120331)"
   ]
  },
  {
   "cell_type": "markdown",
   "metadata": {
    "colab_type": "text",
    "id": "oDYk5v195Q5Z"
   },
   "source": [
    "## Exploratory Data Analysis"
   ]
  },
  {
   "cell_type": "code",
   "execution_count": 10,
   "metadata": {
    "_kg_hide-input": false,
    "colab": {
     "base_uri": "https://localhost:8080/",
     "height": 34
    },
    "colab_type": "code",
    "id": "_0UZa7omKF6c",
    "outputId": "81290da6-004e-4f90-b7d2-31df5737c5ff"
   },
   "outputs": [],
   "source": [
    "import tensorflow as tf\n",
    "tf.logging.set_verbosity(tf.logging.WARN)\n",
    "import matplotlib.pyplot as plt # plotting\n",
    "import numpy as np # linear algebra\n",
    "import os # accessing directory structure\n",
    "import pandas as pd # data processing, CSV file I/O (e.g. pd.read_csv)\n",
    "import seaborn\n",
    "from Bio.SeqUtils import seq3\n",
    "from keras.layers.normalization import BatchNormalization\n",
    "from keras.layers import Dropout\n",
    "from sklearn.feature_extraction.text import CountVectorizer\n",
    "from sklearn.feature_extraction.text import TfidfVectorizer\n",
    "from tqdm import tqdm\n",
    "from sklearn.preprocessing import LabelEncoder\n",
    "from sklearn.preprocessing import OneHotEncoder\n",
    "from keras.utils import np_utils\n",
    "from keras.datasets import mnist\n",
    "import seaborn as sns\n",
    "from keras.initializers import RandomNormal\n",
    "from keras.models import Sequential\n",
    "from keras.layers import Activation,Dense\n",
    "import matplotlib.pyplot as plt\n",
    "from keras.callbacks import EarlyStopping\n",
    "from keras.callbacks import ModelCheckpoint\n",
    "from keras.models import load_model\n",
    "from keras.layers import LSTM\n",
    "from keras.layers.embeddings import Embedding\n",
    "from sklearn.metrics import f1_score\n",
    "from keras.preprocessing import sequence\n",
    "max_review_length = 100\n",
    "import warnings\n",
    "from tqdm import tqdm\n",
    "warnings.filterwarnings('ignore')"
   ]
  },
  {
   "cell_type": "markdown",
   "metadata": {
    "colab_type": "text",
    "id": "4R3CJ4xAKF6y"
   },
   "source": [
    "## Loading the data"
   ]
  },
  {
   "cell_type": "code",
   "execution_count": 11,
   "metadata": {
    "_kg_hide-input": false,
    "colab": {
     "base_uri": "https://localhost:8080/",
     "height": 34
    },
    "colab_type": "code",
    "id": "QOdN-ovoKF61",
    "outputId": "ce3789c4-3b77-46ba-9e09-d834b497c497"
   },
   "outputs": [
    {
     "name": "stdout",
     "output_type": "stream",
     "text": [
      "Available dataset partitions:  ['dev', 'test', 'train']\n"
     ]
    }
   ],
   "source": [
    "data_partitions_dirpath = 'random_split/'\n",
    "print('Available dataset partitions: ', os.listdir(data_partitions_dirpath))"
   ]
  },
  {
   "cell_type": "code",
   "execution_count": 12,
   "metadata": {
    "colab": {
     "base_uri": "https://localhost:8080/",
     "height": 67
    },
    "colab_type": "code",
    "id": "OOSNFlqcKF67",
    "outputId": "b738c257-3d2f-4fcc-baf9-7c9b198a907a"
   },
   "outputs": [
    {
     "name": "stdout",
     "output_type": "stream",
     "text": [
      "Dataset partition \"test\" has 126171 sequences\n",
      "Dataset partition \"dev\" has 126171 sequences\n",
      "Dataset partition \"train\" has 1086741 sequences\n"
     ]
    }
   ],
   "source": [
    "#reading the files\n",
    "def read_all_shards(partition='dev', data_dir=data_partitions_dirpath):\n",
    "    shards = []\n",
    "    for fn in os.listdir(os.path.join(data_dir, partition)):\n",
    "        with open(os.path.join(data_dir, partition, fn)) as f:\n",
    "            shards.append(pd.read_csv(f, index_col=None))\n",
    "    return pd.concat(shards)\n",
    "\n",
    "test = read_all_shards('test')\n",
    "dev = read_all_shards('dev')\n",
    "train = read_all_shards('train')\n",
    "\n",
    "partitions = {'test': test, 'dev': dev, 'train': train}\n",
    "for name, df in partitions.items():\n",
    "    print('Dataset partition \"%s\" has %d sequences' % (name, len(df)))"
   ]
  },
  {
   "cell_type": "code",
   "execution_count": 4,
   "metadata": {
    "colab": {
     "base_uri": "https://localhost:8080/",
     "height": 299
    },
    "colab_type": "code",
    "id": "6o_CGkFBKF7J",
    "outputId": "296ba43e-7f67-4f53-eb74-528b815a58d8"
   },
   "outputs": [
    {
     "data": {
      "text/html": [
       "<div>\n",
       "<style scoped>\n",
       "    .dataframe tbody tr th:only-of-type {\n",
       "        vertical-align: middle;\n",
       "    }\n",
       "\n",
       "    .dataframe tbody tr th {\n",
       "        vertical-align: top;\n",
       "    }\n",
       "\n",
       "    .dataframe thead th {\n",
       "        text-align: right;\n",
       "    }\n",
       "</style>\n",
       "<table border=\"1\" class=\"dataframe\">\n",
       "  <thead>\n",
       "    <tr style=\"text-align: right;\">\n",
       "      <th></th>\n",
       "      <th>family_id</th>\n",
       "      <th>sequence_name</th>\n",
       "      <th>family_accession</th>\n",
       "      <th>aligned_sequence</th>\n",
       "      <th>sequence</th>\n",
       "    </tr>\n",
       "  </thead>\n",
       "  <tbody>\n",
       "    <tr>\n",
       "      <th>0</th>\n",
       "      <td>Gly_kinase</td>\n",
       "      <td>Q07ZT2_SHEFN/3-383</td>\n",
       "      <td>PF02595.15</td>\n",
       "      <td>IVIAPDSFKESLSALEVANAIEDGFKQ......................</td>\n",
       "      <td>IVIAPDSFKESLSALEVANAIEDGFKQVFPNAQYCKVPMADGGEGT...</td>\n",
       "    </tr>\n",
       "    <tr>\n",
       "      <th>1</th>\n",
       "      <td>Pkinase_C</td>\n",
       "      <td>F2UES8_SALR5/486-527</td>\n",
       "      <td>PF00433.24</td>\n",
       "      <td>LKDPLDTSNF..DE.....DFTSLPAVDTPVE.................</td>\n",
       "      <td>LKDPLDTSNFDEDFTSLPAVDTPVEDSGLSQSVQRKFEGFSF</td>\n",
       "    </tr>\n",
       "    <tr>\n",
       "      <th>2</th>\n",
       "      <td>DUF3384</td>\n",
       "      <td>J9LUZ1_ACYPI/51-475</td>\n",
       "      <td>PF11864.8</td>\n",
       "      <td>IHTRIKAIKELAE.VAKSHR......LEENAVASLWLRVHD.LFSH...</td>\n",
       "      <td>IHTRIKAIKELAEVAKSHRLEENAVASLWLRVHDLFSHHVPKEDRH...</td>\n",
       "    </tr>\n",
       "    <tr>\n",
       "      <th>3</th>\n",
       "      <td>FKBP_N</td>\n",
       "      <td>F5YQG8_TREPZ/38-136</td>\n",
       "      <td>PF01346.18</td>\n",
       "      <td>DKDVGYAIGM....FIG.......SE.......................</td>\n",
       "      <td>DKDVGYAIGMFIGSEYKQQGQLSMITVDYDAFTRGFKDALEGNETA...</td>\n",
       "    </tr>\n",
       "    <tr>\n",
       "      <th>4</th>\n",
       "      <td>PAZ</td>\n",
       "      <td>PIWL2_XENTR/368-498</td>\n",
       "      <td>PF02170.22</td>\n",
       "      <td>LDIMNILYQ.................Q..SPEN...........FQ...</td>\n",
       "      <td>LDIMNILYQQSPENFQDEVTKQLVGSIVITRYNNRTYRIDDIEWNM...</td>\n",
       "    </tr>\n",
       "  </tbody>\n",
       "</table>\n",
       "</div>"
      ],
      "text/plain": [
       "    family_id         sequence_name family_accession  \\\n",
       "0  Gly_kinase    Q07ZT2_SHEFN/3-383       PF02595.15   \n",
       "1   Pkinase_C  F2UES8_SALR5/486-527       PF00433.24   \n",
       "2     DUF3384   J9LUZ1_ACYPI/51-475        PF11864.8   \n",
       "3      FKBP_N   F5YQG8_TREPZ/38-136       PF01346.18   \n",
       "4         PAZ   PIWL2_XENTR/368-498       PF02170.22   \n",
       "\n",
       "                                    aligned_sequence  \\\n",
       "0  IVIAPDSFKESLSALEVANAIEDGFKQ......................   \n",
       "1  LKDPLDTSNF..DE.....DFTSLPAVDTPVE.................   \n",
       "2  IHTRIKAIKELAE.VAKSHR......LEENAVASLWLRVHD.LFSH...   \n",
       "3  DKDVGYAIGM....FIG.......SE.......................   \n",
       "4  LDIMNILYQ.................Q..SPEN...........FQ...   \n",
       "\n",
       "                                            sequence  \n",
       "0  IVIAPDSFKESLSALEVANAIEDGFKQVFPNAQYCKVPMADGGEGT...  \n",
       "1         LKDPLDTSNFDEDFTSLPAVDTPVEDSGLSQSVQRKFEGFSF  \n",
       "2  IHTRIKAIKELAEVAKSHRLEENAVASLWLRVHDLFSHHVPKEDRH...  \n",
       "3  DKDVGYAIGMFIGSEYKQQGQLSMITVDYDAFTRGFKDALEGNETA...  \n",
       "4  LDIMNILYQQSPENFQDEVTKQLVGSIVITRYNNRTYRIDDIEWNM...  "
      ]
     },
     "execution_count": 4,
     "metadata": {},
     "output_type": "execute_result"
    }
   ],
   "source": [
    "train.head()"
   ]
  },
  {
   "cell_type": "code",
   "execution_count": 0,
   "metadata": {
    "colab": {
     "base_uri": "https://localhost:8080/",
     "height": 50
    },
    "colab_type": "code",
    "id": "wTQKFcqiDBNl",
    "outputId": "7c280005-8966-426c-b7cb-fd82f984b32f"
   },
   "outputs": [
    {
     "name": "stdout",
     "output_type": "stream",
     "text": [
      "There are 17929 output classes in train data\n",
      "There are 13071 output classes in dev data\n"
     ]
    }
   ],
   "source": [
    "print('There are {} output classes in train data'.format(train.family_accession.drop_duplicates().count()))\n",
    "print('There are {} output classes in dev data'.format(dev.family_accession.drop_duplicates().count()))"
   ]
  },
  {
   "cell_type": "markdown",
   "metadata": {
    "colab_type": "text",
    "id": "1-URJaGYKF7O"
   },
   "source": [
    "### Families with the most sequences"
   ]
  },
  {
   "cell_type": "code",
   "execution_count": 4,
   "metadata": {
    "colab": {
     "base_uri": "https://localhost:8080/",
     "height": 218
    },
    "colab_type": "code",
    "id": "6SY68FhD0af4",
    "outputId": "db8feeb9-fcfe-4999-a8ff-a6fac2cde7ed"
   },
   "outputs": [
    {
     "data": {
      "text/plain": [
       "family_id\n",
       "Methyltransf_25    3637\n",
       "LRR_1              1927\n",
       "Acetyltransf_7     1761\n",
       "His_kinase         1537\n",
       "Bac_transf         1528\n",
       "Lum_binding        1504\n",
       "DNA_binding_1      1345\n",
       "Chromate_transp    1265\n",
       "Lipase_GDSL_2      1252\n",
       "DnaJ_CXXCXGXG      1210\n",
       "dtype: int64"
      ]
     },
     "execution_count": 4,
     "metadata": {},
     "output_type": "execute_result"
    }
   ],
   "source": [
    "train.groupby('family_id').size().sort_values(ascending=False).head(10)"
   ]
  },
  {
   "cell_type": "markdown",
   "metadata": {
    "colab_type": "text",
    "id": "h8BoeC0aC1gM"
   },
   "source": [
    "We can see that Methyltransf_25 is the most common family\n"
   ]
  },
  {
   "cell_type": "code",
   "execution_count": 0,
   "metadata": {
    "colab": {
     "base_uri": "https://localhost:8080/",
     "height": 852
    },
    "colab_type": "code",
    "id": "8ekmQ5Le0acJ",
    "outputId": "1166ae6b-ff1b-47ce-b1e2-2e3c1aecb1dd"
   },
   "outputs": [
    {
     "data": {
      "image/png": "[encoded data removed]",
      "text/plain": [
       "<Figure size 432x288 with 1 Axes>"
      ]
     },
     "metadata": {
      "needs_background": "light",
      "tags": []
     },
     "output_type": "display_data"
    },
    {
     "data": {
      "image/png": "[encoded data removed]",
      "text/plain": [
       "<Figure size 432x288 with 1 Axes>"
      ]
     },
     "metadata": {
      "needs_background": "light",
      "tags": []
     },
     "output_type": "display_data"
    },
    {
     "data": {
      "image/png": "[encoded data removed]",
      "text/plain": [
       "<Figure size 432x288 with 1 Axes>"
      ]
     },
     "metadata": {
      "needs_background": "light",
      "tags": []
     },
     "output_type": "display_data"
    }
   ],
   "source": [
    "for name, partition in partitions.items():\n",
    "    partition.groupby('family_id').size().hist(bins=50)\n",
    "    plt.title('Distribution of family sizes for %s' % name)\n",
    "    plt.ylabel('# Families')\n",
    "    plt.xlabel('Family size')\n",
    "    plt.show()"
   ]
  },
  {
   "cell_type": "markdown",
   "metadata": {
    "colab_type": "text",
    "id": "V84yQJAKC1gW"
   },
   "source": [
    "We can see that the train test and dev have same distribution."
   ]
  },
  {
   "cell_type": "markdown",
   "metadata": {
    "colab_type": "text",
    "id": "sskw44ak1uIM"
   },
   "source": [
    "### Families with the longest sequence length"
   ]
  },
  {
   "cell_type": "code",
   "execution_count": 0,
   "metadata": {
    "colab": {
     "base_uri": "https://localhost:8080/",
     "height": 312
    },
    "colab_type": "code",
    "id": "Nf6ZHIdj0aWR",
    "outputId": "6753ddaa-a150-4cbf-8d48-2f37f1098b00"
   },
   "outputs": [
    {
     "data": {
      "text/plain": [
       "Text(0, 0.5, 'Number of sequences')"
      ]
     },
     "execution_count": 8,
     "metadata": {
      "tags": []
     },
     "output_type": "execute_result"
    },
    {
     "data": {
      "image/png": "[encoded data removed]",
      "text/plain": [
       "<Figure size 864x432 with 1 Axes>"
      ]
     },
     "metadata": {
      "needs_background": "light",
      "tags": []
     },
     "output_type": "display_data"
    }
   ],
   "source": [
    "fig = plt.subplots(figsize=(12, 6))\n",
    "dev['sequence'] = dev.sequence.str.len()\n",
    "dev.sequence.hist(bins=30)\n",
    "plt.title('Distribution of sequence lengths')\n",
    "plt.xlabel('sequence length')\n",
    "plt.ylabel('Number of sequences')"
   ]
  },
  {
   "cell_type": "markdown",
   "metadata": {
    "colab_type": "text",
    "id": "OTIKfSzEC1gf"
   },
   "source": [
    "We can see that the average length of sequence is around 200"
   ]
  },
  {
   "cell_type": "code",
   "execution_count": 0,
   "metadata": {
    "colab": {
     "base_uri": "https://localhost:8080/",
     "height": 195
    },
    "colab_type": "code",
    "id": "RzQ_S6Im0aTY",
    "outputId": "0b196841-c5e0-441e-d79c-466afad374ea"
   },
   "outputs": [
    {
     "data": {
      "text/html": [
       "<div>\n",
       "<style scoped>\n",
       "    .dataframe tbody tr th:only-of-type {\n",
       "        vertical-align: middle;\n",
       "    }\n",
       "\n",
       "    .dataframe tbody tr th {\n",
       "        vertical-align: top;\n",
       "    }\n",
       "\n",
       "    .dataframe thead th {\n",
       "        text-align: right;\n",
       "    }\n",
       "</style>\n",
       "<table border=\"1\" class=\"dataframe\">\n",
       "  <thead>\n",
       "    <tr style=\"text-align: right;\">\n",
       "      <th></th>\n",
       "      <th>family_id</th>\n",
       "      <th>sequence</th>\n",
       "    </tr>\n",
       "  </thead>\n",
       "  <tbody>\n",
       "    <tr>\n",
       "      <th>9434</th>\n",
       "      <td>GREB1</td>\n",
       "      <td>1971</td>\n",
       "    </tr>\n",
       "    <tr>\n",
       "      <th>6702</th>\n",
       "      <td>Nup192</td>\n",
       "      <td>1910</td>\n",
       "    </tr>\n",
       "    <tr>\n",
       "      <th>11512</th>\n",
       "      <td>Nup192</td>\n",
       "      <td>1855</td>\n",
       "    </tr>\n",
       "    <tr>\n",
       "      <th>7972</th>\n",
       "      <td>Nup192</td>\n",
       "      <td>1750</td>\n",
       "    </tr>\n",
       "    <tr>\n",
       "      <th>3109</th>\n",
       "      <td>Nup192</td>\n",
       "      <td>1676</td>\n",
       "    </tr>\n",
       "  </tbody>\n",
       "</table>\n",
       "</div>"
      ],
      "text/plain": [
       "      family_id  sequence\n",
       "9434      GREB1      1971\n",
       "6702     Nup192      1910\n",
       "11512    Nup192      1855\n",
       "7972     Nup192      1750\n",
       "3109     Nup192      1676"
      ]
     },
     "execution_count": 29,
     "metadata": {
      "tags": []
     },
     "output_type": "execute_result"
    }
   ],
   "source": [
    "family_lengths = (dev[['family_id', 'sequence']]\n",
    "                  .drop_duplicates()\n",
    "                  .sort_values(by='sequence', ascending=False))\n",
    "\n",
    "family_lengths.head(5)"
   ]
  },
  {
   "cell_type": "markdown",
   "metadata": {
    "colab_type": "text",
    "id": "7oxsctTIC1gr"
   },
   "source": [
    "The family GREB1 has the longest sequence of length 1971"
   ]
  },
  {
   "cell_type": "code",
   "execution_count": 0,
   "metadata": {
    "colab": {
     "base_uri": "https://localhost:8080/",
     "height": 195
    },
    "colab_type": "code",
    "id": "Get0T8La0aQo",
    "outputId": "7d1a3f84-ac84-4dfb-e89d-824ce968d09b"
   },
   "outputs": [
    {
     "data": {
      "text/html": [
       "<div>\n",
       "<style scoped>\n",
       "    .dataframe tbody tr th:only-of-type {\n",
       "        vertical-align: middle;\n",
       "    }\n",
       "\n",
       "    .dataframe tbody tr th {\n",
       "        vertical-align: top;\n",
       "    }\n",
       "\n",
       "    .dataframe thead th {\n",
       "        text-align: right;\n",
       "    }\n",
       "</style>\n",
       "<table border=\"1\" class=\"dataframe\">\n",
       "  <thead>\n",
       "    <tr style=\"text-align: right;\">\n",
       "      <th></th>\n",
       "      <th>family_id</th>\n",
       "      <th>sequence</th>\n",
       "    </tr>\n",
       "  </thead>\n",
       "  <tbody>\n",
       "    <tr>\n",
       "      <th>5508</th>\n",
       "      <td>YLP</td>\n",
       "      <td>9</td>\n",
       "    </tr>\n",
       "    <tr>\n",
       "      <th>9947</th>\n",
       "      <td>LSPR</td>\n",
       "      <td>9</td>\n",
       "    </tr>\n",
       "    <tr>\n",
       "      <th>6021</th>\n",
       "      <td>Involucrin</td>\n",
       "      <td>9</td>\n",
       "    </tr>\n",
       "    <tr>\n",
       "      <th>6137</th>\n",
       "      <td>Sperm_act_pep</td>\n",
       "      <td>10</td>\n",
       "    </tr>\n",
       "    <tr>\n",
       "      <th>6137</th>\n",
       "      <td>FARP</td>\n",
       "      <td>10</td>\n",
       "    </tr>\n",
       "  </tbody>\n",
       "</table>\n",
       "</div>"
      ],
      "text/plain": [
       "          family_id  sequence\n",
       "5508            YLP         9\n",
       "9947           LSPR         9\n",
       "6021     Involucrin         9\n",
       "6137  Sperm_act_pep        10\n",
       "6137           FARP        10"
      ]
     },
     "execution_count": 30,
     "metadata": {
      "tags": []
     },
     "output_type": "execute_result"
    }
   ],
   "source": [
    "family_lengths = (dev[['family_id', 'sequence']]\n",
    "                  .drop_duplicates()\n",
    "                  .sort_values(by='sequence', ascending=True))\n",
    "\n",
    "family_lengths.head(5)"
   ]
  },
  {
   "cell_type": "markdown",
   "metadata": {
    "colab_type": "text",
    "id": "aVz1py_4C1g9"
   },
   "source": [
    "The family GREB1 has the longest sequence of length 1971"
   ]
  },
  {
   "cell_type": "markdown",
   "metadata": {
    "colab_type": "text",
    "id": "-kHAwosc6Y0l"
   },
   "source": [
    "### CDF of family accessions "
   ]
  },
  {
   "cell_type": "code",
   "execution_count": 0,
   "metadata": {
    "colab": {
     "base_uri": "https://localhost:8080/",
     "height": 295
    },
    "colab_type": "code",
    "id": "nAup4reS8CrY",
    "outputId": "bdc28804-7102-452c-ecc8-e3051958be53"
   },
   "outputs": [
    {
     "data": {
      "image/png": "[encoded data removed]",
      "text/plain": [
       "<Figure size 504x360 with 1 Axes>"
      ]
     },
     "metadata": {
      "needs_background": "light",
      "tags": []
     },
     "output_type": "display_data"
    }
   ],
   "source": [
    "fig = plt.subplots(figsize=(7, 5))\n",
    "train_range={}\n",
    "for i in range(500,18000,500):\n",
    "    train_top=train.groupby('family_id').size().sort_values(ascending=False).head(i)\n",
    "    train_range[i]=train_top.values.sum()/1086741\n",
    "plt.plot(train_range.keys(),train_range.values())\n",
    "plt.xlabel('number of classes')\n",
    "plt.ylabel('Percentage')\n",
    "plt.title('Train CDF')\n",
    "plt.show()"
   ]
  },
  {
   "cell_type": "markdown",
   "metadata": {
    "colab_type": "text",
    "id": "AyGg-nAVC1hY"
   },
   "source": [
    "We consider only 1000 classes as it covers almost 40% of the data and also to reduce computation time"
   ]
  },
  {
   "cell_type": "code",
   "execution_count": 13,
   "metadata": {
    "colab": {
     "base_uri": "https://localhost:8080/",
     "height": 34
    },
    "colab_type": "code",
    "id": "1d30GN7--lg2",
    "outputId": "8c6599a4-29d0-4d64-b395-6cd5b1f42b6b"
   },
   "outputs": [
    {
     "name": "stdout",
     "output_type": "stream",
     "text": [
      "1000 classes cover 40.44137471577864% of train data\n"
     ]
    }
   ],
   "source": [
    "train_top=train.groupby('family_id').size().sort_values(ascending=False).head(1000)\n",
    "print('1000 classes cover {}% of train data'.format(train_top.values.sum()/train.shape[0]*100))"
   ]
  },
  {
   "cell_type": "code",
   "execution_count": 0,
   "metadata": {
    "colab": {
     "base_uri": "https://localhost:8080/",
     "height": 295
    },
    "colab_type": "code",
    "id": "lUCMhkuw-lch",
    "outputId": "195fedf3-590a-4c33-f0b1-e57bce4d4acc"
   },
   "outputs": [
    {
     "data": {
      "image/png": "[encoded data removed]",
      "text/plain": [
       "<Figure size 504x360 with 1 Axes>"
      ]
     },
     "metadata": {
      "needs_background": "light",
      "tags": []
     },
     "output_type": "display_data"
    }
   ],
   "source": [
    "fig = plt.subplots(figsize=(7, 5))\n",
    "dev_range={}\n",
    "for i in range(500,18000,500):\n",
    "    dev_top=dev.groupby('family_id').size().sort_values(ascending=False).head(i)\n",
    "    dev_range[i]=dev_top.values.sum()/1086741\n",
    "plt.plot(dev_range.keys(),dev_range.values())\n",
    "plt.xlabel('number of classes')\n",
    "plt.ylabel('Percentage')\n",
    "plt.title('Dev CDF')\n",
    "plt.show()"
   ]
  },
  {
   "cell_type": "code",
   "execution_count": 14,
   "metadata": {
    "colab": {
     "base_uri": "https://localhost:8080/",
     "height": 34
    },
    "colab_type": "code",
    "id": "ZJhFA80C_lA6",
    "outputId": "2dbf4730-3923-451b-ccaf-ab272b1809f0"
   },
   "outputs": [
    {
     "name": "stdout",
     "output_type": "stream",
     "text": [
      "800 classes cover 38.251262175935835% of dev data\n"
     ]
    }
   ],
   "source": [
    "dev_top=dev.groupby('family_id').size().sort_values(ascending=False).head(800)\n",
    "\n",
    "print('800 classes cover {}% of dev data'.format(dev_top.values.sum()/dev.shape[0]*100))"
   ]
  },
  {
   "cell_type": "code",
   "execution_count": 0,
   "metadata": {
    "colab": {
     "base_uri": "https://localhost:8080/",
     "height": 295
    },
    "colab_type": "code",
    "id": "sdurGAC5-12a",
    "outputId": "14950e3e-737a-4332-875d-82375c7ce5e3"
   },
   "outputs": [
    {
     "data": {
      "image/png": "[encoded data removed]",
      "text/plain": [
       "<Figure size 504x360 with 1 Axes>"
      ]
     },
     "metadata": {
      "needs_background": "light",
      "tags": []
     },
     "output_type": "display_data"
    }
   ],
   "source": [
    "fig = plt.subplots(figsize=(7, 5))\n",
    "test_range={}\n",
    "for i in range(500,18000,500):\n",
    "    test_top=dev.groupby('family_id').size().sort_values(ascending=False).head(i)\n",
    "    test_range[i]=test_top.values.sum()/1086741\n",
    "plt.plot(test_range.keys(),test_range.values())\n",
    "plt.xlabel('number of classes')\n",
    "plt.ylabel('Percentage')\n",
    "plt.title('Test CDF')\n",
    "plt.show()"
   ]
  },
  {
   "cell_type": "markdown",
   "metadata": {
    "colab_type": "text",
    "id": "CbSIduusC1h5"
   },
   "source": [
    "We consider only 4500 classes as it covers 80% of the dev and test data"
   ]
  },
  {
   "cell_type": "code",
   "execution_count": 15,
   "metadata": {
    "colab": {
     "base_uri": "https://localhost:8080/",
     "height": 34
    },
    "colab_type": "code",
    "id": "lnVi1W_n0aNM",
    "outputId": "f982eaed-7f7c-4689-a285-18e34476e52d"
   },
   "outputs": [
    {
     "name": "stdout",
     "output_type": "stream",
     "text": [
      "800 classes cover 38.251262175935835% of test data\n"
     ]
    }
   ],
   "source": [
    "test_top=test.groupby('family_id').size().sort_values(ascending=False).head(800)\n",
    "\n",
    "print('800 classes cover {}% of test data'.format(test_top.values.sum()/test.shape[0]*100))\n"
   ]
  },
  {
   "cell_type": "markdown",
   "metadata": {
    "colab_type": "text",
    "id": "xO7u2QjYC1iC"
   },
   "source": [
    "### Data Preprocessing"
   ]
  },
  {
   "cell_type": "code",
   "execution_count": 5,
   "metadata": {
    "colab": {},
    "colab_type": "code",
    "id": "VGdxoW-iKF7o"
   },
   "outputs": [],
   "source": [
    "#function to get the input and output\n",
    "def get_allocate_value(train_top,test_top,dev_top):\n",
    "    train_list=train_top.index.tolist()\n",
    "    test_list=test_top.index.tolist()\n",
    "    dev_list=dev_top.index.tolist()\n",
    "    x_train=train.loc[train['family_id'].isin(train_list)]\n",
    "    x_test=test.loc[test['family_id'].isin(test_list)]\n",
    "    x_dev=dev.loc[dev['family_id'].isin(dev_list)]\n",
    "    y_train=x_train['family_accession'].values\n",
    "    x_train=x_train['sequence']\n",
    "    y_test=x_test['family_accession'].values\n",
    "    x_test=x_test['sequence']\n",
    "\n",
    "    y_dev=x_dev['family_accession'].values\n",
    "    x_dev=x_dev['sequence']\n",
    "    return x_train,x_test,x_dev,y_train,y_test,y_dev\n",
    " \n",
    "#function to onehotencode the output    \n",
    "def encode(y_train,y_test,y_dev):\n",
    "    lb = LabelEncoder()\n",
    "    y_train = lb.fit_transform(y_train)\n",
    "    y_test=lb.transform(y_test)\n",
    "    y_dev = lb.transform(y_dev)\n",
    "    y_train=np.array(y_train)\n",
    "    y_test=np.array(y_test)\n",
    "    y_dev=np.array(y_dev)\n",
    "    # Transform labels to one-hot\n",
    "    lb = OneHotEncoder()\n",
    "    y_train = lb.fit_transform(y_train.reshape(-1, 1))\n",
    "    y_test=lb.transform(y_test.reshape(-1, 1))\n",
    "    y_dev = lb.transform(y_dev.reshape(-1, 1))\n",
    "    return y_train,y_test,y_dev\n",
    "\n",
    "#function to convert the one letter amino acid into 3 letter and seperate them with a space\n",
    "def preprocess(x_train,x_test,x_dev):\n",
    "    preprocess_train=[]\n",
    "    for i in tqdm(x_train.values):\n",
    "        g=seq3(i)\n",
    "        preprocess_train.append(' '.join([g[i:i+3] for i in range(0, len(g), 3)]))\n",
    "      \n",
    "    preprocess_test=[]\n",
    "    for i in tqdm(x_test.values):\n",
    "        e=seq3(i)\n",
    "        preprocess_test.append(' '.join([e[i:i+3] for i in range(0, len(e), 3)]))\n",
    "\n",
    "    preprocess_dev=[]\n",
    "    for i in tqdm(x_dev.values):\n",
    "        f=seq3(i)\n",
    "        preprocess_dev.append(' '.join([f[i:i+3] for i in range(0, len(f), 3)]))\n",
    "        \n",
    "    return preprocess_train, preprocess_test, preprocess_dev"
   ]
  },
  {
   "cell_type": "markdown",
   "metadata": {},
   "source": [
    "## One Hot Encoding"
   ]
  },
  {
   "cell_type": "markdown",
   "metadata": {},
   "source": [
    "We will one hot encode the input sequence into L*20 array such that each column represents one hot encoding of each amino acid and padding with zeroes"
   ]
  },
  {
   "cell_type": "code",
   "execution_count": 8,
   "metadata": {
    "colab": {
     "base_uri": "https://localhost:8080/",
     "height": 67
    },
    "colab_type": "code",
    "id": "klsl9lz5Pv9o",
    "outputId": "35a565cf-76b2-4010-f7ca-d66fcbd7aa06"
   },
   "outputs": [
    {
     "name": "stderr",
     "output_type": "stream",
     "text": [
      "100%|██████████| 439493/439493 [00:28<00:00, 15521.62it/s]\n",
      "100%|██████████| 48262/48262 [00:03<00:00, 15432.02it/s]\n",
      "100%|██████████| 48262/48262 [00:03<00:00, 15736.93it/s]\n"
     ]
    }
   ],
   "source": [
    "#getting all the data\n",
    "\n",
    "train_top=train.groupby('family_id').size().sort_values(ascending=False).head(1000)\n",
    "dev_top=dev.groupby('family_id').size().sort_values(ascending=False).head(800)\n",
    "test_top=test.groupby('family_id').size().sort_values(ascending=False).head(800)\n",
    "\n",
    "x_train,x_test,x_dev,y_train,y_test,y_dev= get_allocate_value(train_top,test_top,dev_top)\n",
    "y_train,y_test,y_dev=encode(y_train,y_test,y_dev)\n",
    "preprocess_train, preprocess_test, preprocess_dev= preprocess(x_train,x_test,x_dev)"
   ]
  },
  {
   "cell_type": "code",
   "execution_count": 9,
   "metadata": {},
   "outputs": [
    {
     "name": "stderr",
     "output_type": "stream",
     "text": [
      "100%|██████████| 439493/439493 [00:15<00:00, 28881.03it/s]\n"
     ]
    }
   ],
   "source": [
    "# Fit one hot encoding on train set\n",
    "l=[]\n",
    "for g in tqdm(x_train):\n",
    "    z=(' '.join([g[i:i+1] for i in range(0, len(g), 1)]))\n",
    "    f=z.split()\n",
    "    l.append(f)\n",
    "\n",
    "corpus=[]\n",
    "for x in l:\n",
    "    for c in x:\n",
    "        corpus.append(c)\n",
    "        \n",
    "lb = OneHotEncoder(sparse=False)\n",
    "gg=lb.fit(np.array(corpus).reshape(-1, 1))"
   ]
  },
  {
   "cell_type": "code",
   "execution_count": 12,
   "metadata": {},
   "outputs": [
    {
     "data": {
      "application/vnd.jupyter.widget-view+json": {
       "model_id": "12a918f4db7946b89f3baf971e9f2a1f",
       "version_major": 2,
       "version_minor": 0
      },
      "text/plain": [
       "HBox(children=(IntProgress(value=0, max=439493), HTML(value='')))"
      ]
     },
     "metadata": {},
     "output_type": "display_data"
    },
    {
     "name": "stdout",
     "output_type": "stream",
     "text": [
      "\n"
     ]
    },
    {
     "data": {
      "application/vnd.jupyter.widget-view+json": {
       "model_id": "5f9488844fd540edb9bdead255824754",
       "version_major": 2,
       "version_minor": 0
      },
      "text/plain": [
       "HBox(children=(IntProgress(value=0, max=48262), HTML(value='')))"
      ]
     },
     "metadata": {},
     "output_type": "display_data"
    },
    {
     "name": "stdout",
     "output_type": "stream",
     "text": [
      "\n"
     ]
    },
    {
     "data": {
      "application/vnd.jupyter.widget-view+json": {
       "model_id": "473d6fcaece84b6fbb4df2e2968c38cf",
       "version_major": 2,
       "version_minor": 0
      },
      "text/plain": [
       "HBox(children=(IntProgress(value=0, max=48262), HTML(value='')))"
      ]
     },
     "metadata": {},
     "output_type": "display_data"
    },
    {
     "name": "stdout",
     "output_type": "stream",
     "text": [
      "\n"
     ]
    }
   ],
   "source": [
    "#One hot encoding of train,test and dev set\n",
    "c=0\n",
    "train_encod=[]\n",
    "dev_encod=[]\n",
    "test_encod=[]\n",
    "from tqdm.auto import tqdm\n",
    "for train in tqdm(x_train):\n",
    "    z=(' '.join([train[i:i+1] for i in range(0, len(train), 1)]))\n",
    "    f=z.split()\n",
    "    train_p=lb.transform(np.array(f).reshape(-1, 1))\n",
    "    train_p=sequence.pad_sequences(train_p.T, maxlen=400,padding='post')\n",
    "    train_p=train_p.T\n",
    "    train_p=sequence.pad_sequences(train_p, maxlen=20)\n",
    "\n",
    "      #gg=gg.T\n",
    "    train_encod.append(train_p[:,:20].tolist())\n",
    "\n",
    "for test in tqdm(x_test):\n",
    "    z=(' '.join([test[i:i+1] for i in range(0, len(test), 1)]))\n",
    "    f=z.split()\n",
    "    test_p=lb.transform(np.array(f).reshape(-1, 1))\n",
    "    test_p=sequence.pad_sequences(test_p.T, maxlen=400,padding='post')\n",
    "    test_p=test_p.T\n",
    "    test_p=sequence.pad_sequences(test_p, maxlen=20)\n",
    "    test_encod.append(test_p[:,:20].tolist())\n",
    "    \n",
    "for dev in tqdm(x_dev):\n",
    "    z=(' '.join([dev[i:i+1] for i in range(0, len(dev), 1)]))\n",
    "    f=z.split()\n",
    "    dev_p=lb.transform(np.array(f).reshape(-1, 1))\n",
    "    dev_p=sequence.pad_sequences(dev_p.T, maxlen=400,padding='post')\n",
    "    dev_p=dev_p.T\n",
    "    dev_p=sequence.pad_sequences(dev_p, maxlen=20)\n",
    "    dev_encod.append(dev_p[:,:20].tolist())\n",
    "  #x_in=sequence.pad_sequences(x_in[0], maxlen=200)"
   ]
  },
  {
   "cell_type": "code",
   "execution_count": 38,
   "metadata": {},
   "outputs": [
    {
     "name": "stdout",
     "output_type": "stream",
     "text": [
      "The number of rows are: 400\n",
      "The number of columns are: 20\n",
      "The number of datapoints are: 439493\n"
     ]
    }
   ],
   "source": [
    "print('The number of rows are:',len(train_encod[0]))\n",
    "print('The number of columns are:',len(train_encod[0][0]))\n",
    "print('The number of datapoints are:',len(train_encod))"
   ]
  },
  {
   "cell_type": "markdown",
   "metadata": {},
   "source": [
    "The input contains 439,493 lists with each list containing 400*20 shaped list corresponding to output variable "
   ]
  },
  {
   "cell_type": "code",
   "execution_count": 13,
   "metadata": {
    "colab": {},
    "colab_type": "code",
    "id": "9cWi7fyYPvg3"
   },
   "outputs": [],
   "source": [
    "output_dim=1000\n",
    "input_dim=(100,20)\n",
    "batch_size=64\n",
    "epoch=1"
   ]
  },
  {
   "cell_type": "code",
   "execution_count": 12,
   "metadata": {
    "colab": {
     "base_uri": "https://localhost:8080/",
     "height": 1000
    },
    "colab_type": "code",
    "id": "4qpvOWhPNprv",
    "outputId": "87b47c98-2766-497d-b24e-734bbed0f6da",
    "scrolled": false
   },
   "outputs": [
    {
     "name": "stdout",
     "output_type": "stream",
     "text": [
      "__________________________________________________________________________________________________\n",
      "Layer (type)                    Output Shape         Param #     Connected to                     \n",
      "==================================================================================================\n",
      "input_1 (InputLayer)            (None, 100, 20)      0                                            \n",
      "__________________________________________________________________________________________________\n",
      "conv1d_1 (Conv1D)               (None, 100, 32)      1952        input_1[0][0]                    \n",
      "__________________________________________________________________________________________________\n",
      "batch_normalization_1 (BatchNor (None, 100, 32)      128         conv1d_1[0][0]                   \n",
      "__________________________________________________________________________________________________\n",
      "activation_1 (Activation)       (None, 100, 32)      0           batch_normalization_1[0][0]      \n",
      "__________________________________________________________________________________________________\n",
      "batch_normalization_2 (BatchNor (None, 100, 32)      128         activation_1[0][0]               \n",
      "__________________________________________________________________________________________________\n",
      "activation_2 (Activation)       (None, 100, 32)      0           batch_normalization_2[0][0]      \n",
      "__________________________________________________________________________________________________\n",
      "conv1d_3 (Conv1D)               (None, 100, 128)     20608       activation_2[0][0]               \n",
      "__________________________________________________________________________________________________\n",
      "batch_normalization_3 (BatchNor (None, 100, 128)     512         conv1d_3[0][0]                   \n",
      "__________________________________________________________________________________________________\n",
      "activation_3 (Activation)       (None, 100, 128)     0           batch_normalization_3[0][0]      \n",
      "__________________________________________________________________________________________________\n",
      "conv1d_4 (Conv1D)               (None, 100, 128)     82048       activation_3[0][0]               \n",
      "__________________________________________________________________________________________________\n",
      "conv1d_2 (Conv1D)               (None, 100, 128)     20608       activation_1[0][0]               \n",
      "__________________________________________________________________________________________________\n",
      "add_1 (Add)                     (None, 100, 128)     0           conv1d_4[0][0]                   \n",
      "                                                                 conv1d_2[0][0]                   \n",
      "__________________________________________________________________________________________________\n",
      "activation_4 (Activation)       (None, 100, 128)     0           add_1[0][0]                      \n",
      "__________________________________________________________________________________________________\n",
      "batch_normalization_4 (BatchNor (None, 100, 128)     512         activation_4[0][0]               \n",
      "__________________________________________________________________________________________________\n",
      "activation_5 (Activation)       (None, 100, 128)     0           batch_normalization_4[0][0]      \n",
      "__________________________________________________________________________________________________\n",
      "dropout_1 (Dropout)             (None, 100, 128)     0           activation_5[0][0]               \n",
      "__________________________________________________________________________________________________\n",
      "flatten_1 (Flatten)             (None, 12800)        0           dropout_1[0][0]                  \n",
      "__________________________________________________________________________________________________\n",
      "dense_1 (Dense)                 (None, 1000)         12801000    flatten_1[0][0]                  \n",
      "__________________________________________________________________________________________________\n",
      "activation_6 (Activation)       (None, 1000)         0           dense_1[0][0]                    \n",
      "==================================================================================================\n",
      "Total params: 12,927,496\n",
      "Trainable params: 12,926,856\n",
      "Non-trainable params: 640\n",
      "__________________________________________________________________________________________________\n"
     ]
    }
   ],
   "source": [
    "#https://www.kaggle.com/meownoid/tiny-resnet-with-keras-99-314\n",
    "#https://machinelearningmastery.com/how-to-implement-major-architecture-innovations-for-convolutional-neural-networks/\n",
    "\n",
    "from keras.layers import Dense, Conv1D\n",
    "# example of a CNN model with an identity or projection residual module\n",
    "from keras.models import Model\n",
    "from keras.layers import Input\n",
    "from keras.layers import Activation\n",
    "from keras.layers import Conv2D\n",
    "from keras.layers import MaxPooling2D\n",
    "from keras.layers import add\n",
    "from keras.utils import plot_model\n",
    "\n",
    "# function for creating an identity or projection residual module\n",
    "def residual_module(layer_in, n_filters):\n",
    "    merge_input = layer_in\n",
    "    # check if the number of filters needs to be increase, assumes channels last format\n",
    "    if layer_in.shape[-1] != n_filters:\n",
    "        merge_input = Conv1D(n_filters, kernel_size=5, padding='same', activation='relu', kernel_initializer='he_normal')(layer_in)\n",
    "  \n",
    "    x=BatchNormalization()(layer_in)  \n",
    "    x = Activation('relu')(x)\n",
    "    #conv1\n",
    "    conv1 = Conv1D(n_filters, kernel_size=5, padding='same', activation='relu', kernel_initializer='he_normal',dilation_rate=2)(x)\n",
    "    x=BatchNormalization()(conv1)\n",
    "  \n",
    "    x = Activation('relu')(x)\n",
    "    # conv2\n",
    "    conv2 = Conv1D(n_filters,  kernel_size=5, padding='same', activation='linear', kernel_initializer='he_normal',dilation_rate=2)(x)\n",
    "    # add filters, assumes filters/channels last\n",
    "    layer_out = add([conv2, merge_input])\n",
    "    # activation function\n",
    "    layer_out = Activation('relu')(layer_out)\n",
    "    return layer_out\n",
    "\n",
    "\n",
    "visible = Input(shape=(100,20))\n",
    "x = Conv1D(kernel_size=3, filters=32, strides=1, padding='same')(visible)\n",
    "x = BatchNormalization()(x)\n",
    "x = Activation('relu')(x)\n",
    "\n",
    "x = residual_module(x,128)\n",
    "x = BatchNormalization()(x)\n",
    "x = Activation('relu')(x)\n",
    "\n",
    "# dropout for more robust learning\n",
    "x = Dropout(0.2)(x)\n",
    "x=Flatten()(x)\n",
    "# last softmax layer\n",
    "x = Dense(units=1000)(x)\n",
    "x = Activation('softmax')(x)\n",
    "\n",
    "#layer = residual_module(x, 32)\n",
    "model = Model(inputs=visible, outputs=x)\n",
    "\n",
    "model.summary()\n",
    "# plot model architecture\n",
    "plot_model(model, show_shapes=True, to_file='residual_module.png')\n"
   ]
  },
  {
   "cell_type": "code",
   "execution_count": 14,
   "metadata": {
    "colab": {
     "base_uri": "https://localhost:8080/",
     "height": 390
    },
    "colab_type": "code",
    "id": "43UL5JwW-qlv",
    "outputId": "b97b03b8-009e-42e0-fbbd-8edd86e1bb26",
    "scrolled": false
   },
   "outputs": [
    {
     "name": "stdout",
     "output_type": "stream",
     "text": [
      "Train on 439493 samples, validate on 48262 samples\n",
      "Epoch 1/15\n",
      "439493/439493 [==============================] - 1235s 3ms/step - loss: 0.1795 - acc: 0.9650 - val_loss: 0.0651 - val_acc: 0.9852\n",
      "\n",
      "Epoch 00001: val_acc improved from -inf to 0.98519, saving model to best_model_one_hot.h5\n",
      "Epoch 2/15\n",
      "439493/439493 [==============================] - 1238s 3ms/step - loss: 0.0170 - acc: 0.9963 - val_loss: 0.0719 - val_acc: 0.9856\n",
      "\n",
      "Epoch 00002: val_acc improved from 0.98519 to 0.98560, saving model to best_model_one_hot.h5\n",
      "Epoch 3/15\n",
      "439493/439493 [==============================] - 1227s 3ms/step - loss: 0.0103 - acc: 0.9975 - val_loss: 0.0777 - val_acc: 0.9862\n",
      "\n",
      "Epoch 00003: val_acc improved from 0.98560 to 0.98620, saving model to best_model_one_hot.h5\n",
      "Epoch 4/15\n",
      "439493/439493 [==============================] - 1225s 3ms/step - loss: 0.0072 - acc: 0.9982 - val_loss: 0.0701 - val_acc: 0.9870\n",
      "\n",
      "Epoch 00004: val_acc improved from 0.98620 to 0.98701, saving model to best_model_one_hot.h5\n",
      "Epoch 5/15\n",
      "439493/439493 [==============================] - 1236s 3ms/step - loss: 0.0048 - acc: 0.9989 - val_loss: 0.0694 - val_acc: 0.9881\n",
      "\n",
      "Epoch 00005: val_acc improved from 0.98701 to 0.98813, saving model to best_model_one_hot.h5\n",
      "Epoch 6/15\n",
      "439493/439493 [==============================] - 1236s 3ms/step - loss: 0.0041 - acc: 0.9991 - val_loss: 0.0667 - val_acc: 0.9886\n",
      "\n",
      "Epoch 00006: val_acc improved from 0.98813 to 0.98856, saving model to best_model_one_hot.h5\n",
      "Epoch 7/15\n",
      "439493/439493 [==============================] - 1246s 3ms/step - loss: 0.0030 - acc: 0.9994 - val_loss: 0.0666 - val_acc: 0.9889\n",
      "\n",
      "Epoch 00007: val_acc improved from 0.98856 to 0.98894, saving model to best_model_one_hot.h5\n",
      "Epoch 8/15\n",
      "439493/439493 [==============================] - 1241s 3ms/step - loss: 0.0032 - acc: 0.9993 - val_loss: 0.0735 - val_acc: 0.9885\n",
      "\n",
      "Epoch 00008: val_acc did not improve from 0.98894\n",
      "Epoch 00008: early stopping\n"
     ]
    }
   ],
   "source": [
    "#https://machinelearningmastery.com/how-to-stop-training-deep-neural-networks-at-the-right-time-using-early-stopping/\n",
    "#compiling and fitting the model\n",
    "model.compile(optimizer='adam',loss='categorical_crossentropy',metrics=['accuracy'])\n",
    "\n",
    "\n",
    "es = EarlyStopping(monitor='val_loss', mode='min', verbose=1, patience=7)\n",
    "mc = ModelCheckpoint('best_model_one_hot.h5', monitor='val_acc', mode='max', verbose=1, save_best_only=True)\n",
    "# fit model\n",
    "\n",
    "history = model.fit(np.array(train_encod),y_train,batch_size=128,epochs=15,verbose=1,validation_data=(np.array(dev_encod),y_dev), callbacks=[es, mc])\n"
   ]
  },
  {
   "cell_type": "code",
   "execution_count": 15,
   "metadata": {
    "colab": {
     "base_uri": "https://localhost:8080/",
     "height": 295
    },
    "colab_type": "code",
    "id": "PV3YgBXyIsjH",
    "outputId": "b80c24cc-f352-48f5-ab1d-38577b6372b4",
    "scrolled": true
   },
   "outputs": [
    {
     "data": {
      "image/png": "[encoded data removed]",
      "text/plain": [
       "<Figure size 432x288 with 1 Axes>"
      ]
     },
     "metadata": {
      "needs_background": "light"
     },
     "output_type": "display_data"
    }
   ],
   "source": [
    " #plotting train and validation loss\n",
    "plt.plot(history.history['loss'], label='train loss')\n",
    "plt.plot(history.history['val_loss'], label='val loss')\n",
    "plt.title('train vs val loss')\n",
    "plt.xlabel('epoch')\n",
    "plt.ylabel('loss')\n",
    "plt.legend()\n",
    "plt.show()\n"
   ]
  },
  {
   "cell_type": "code",
   "execution_count": 16,
   "metadata": {
    "colab": {
     "base_uri": "https://localhost:8080/",
     "height": 50
    },
    "colab_type": "code",
    "id": "TV_u_Sr0oWqZ",
    "outputId": "06718a6e-9d5a-48cf-c77d-727f840ad7a0"
   },
   "outputs": [
    {
     "name": "stdout",
     "output_type": "stream",
     "text": [
      "Test loss: 0.076\n",
      " Test accuracy: 0.988\n"
     ]
    }
   ],
   "source": [
    "\n",
    "# evaluate \n",
    "test_acc = model.evaluate(np.array(test_encod),y_test, verbose=0)\n",
    "\n",
    "print('Test loss: %.3f' % ( test_acc[0]))\n",
    "print(' Test accuracy: %.3f' % (test_acc[1]))\n"
   ]
  },
  {
   "cell_type": "code",
   "execution_count": 17,
   "metadata": {},
   "outputs": [
    {
     "name": "stdout",
     "output_type": "stream",
     "text": [
      "f1 score is  0.9877957813600763\n"
     ]
    }
   ],
   "source": [
    "test_pred=model.predict(np.array(test_encod))\n",
    "print('f1 score is ',f1_score(np.argmax(test_pred, axis=1), np.argmax(y_test, axis=1),average='micro'))"
   ]
  },
  {
   "cell_type": "markdown",
   "metadata": {
    "colab": {},
    "colab_type": "code",
    "id": "rfdqXhd7Pu2M"
   },
   "source": [
    "## k-mer Encoding "
   ]
  },
  {
   "cell_type": "code",
   "execution_count": 0,
   "metadata": {
    "colab": {
     "base_uri": "https://localhost:8080/",
     "height": 67
    },
    "colab_type": "code",
    "id": "J5ZXM4uUFPlW",
    "outputId": "33a1dedc-57e8-4261-d53f-1156a98cf0c2"
   },
   "outputs": [
    {
     "name": "stderr",
     "output_type": "stream",
     "text": [
      "100%|██████████| 439493/439493 [00:26<00:00, 16396.71it/s]\n",
      "100%|██████████| 48262/48262 [00:02<00:00, 16516.85it/s]\n",
      "100%|██████████| 48262/48262 [00:02<00:00, 16511.98it/s]\n"
     ]
    }
   ],
   "source": [
    "#getting all the data\n",
    "\n",
    "train_top=train.groupby('family_id').size().sort_values(ascending=False).head(1000)\n",
    "dev_top=dev.groupby('family_id').size().sort_values(ascending=False).head(800)\n",
    "test_top=test.groupby('family_id').size().sort_values(ascending=False).head(800)\n",
    "\n",
    "x_train,x_test,x_dev,y_train,y_test,y_dev= get_allocate_value(train_top,test_top,dev_top)\n",
    "y_train,y_test,y_dev=encode(y_train,y_test,y_dev)\n",
    "preprocess_train, preprocess_test, preprocess_dev= preprocess(x_train,x_test,x_dev)"
   ]
  },
  {
   "cell_type": "code",
   "execution_count": 0,
   "metadata": {
    "colab": {
     "base_uri": "https://localhost:8080/",
     "height": 118
    },
    "colab_type": "code",
    "id": "00fgkxHIKF7-",
    "outputId": "5d4a8e31-855b-4a56-b704-c5f22546f116"
   },
   "outputs": [
    {
     "data": {
      "text/plain": [
       "1    AGVPCSVKASEGYLFPLDRCFLFVTKPTLYIPYSEISSVVMSRTGG...\n",
       "2    IRHVLMNSPPGKLYDLVKDINILLGSSVSIQKILEEVLKDYNEKNY...\n",
       "3    MCIAIPGRIERIDYPIAIVDFKGLKKEVRIDLLENPQIGDYVLVHV...\n",
       "4    NIFHILWEDVDLEGVTFKPMGESISVQGDIHIFVLYEGEGENTPIR...\n",
       "5    VSPILQSLLDQLETTPAYILDQRMNIVGWNEAFSDVYGDYLYKGER...\n",
       "Name: sequence, dtype: object"
      ]
     },
     "execution_count": 9,
     "metadata": {
      "tags": []
     },
     "output_type": "execute_result"
    }
   ],
   "source": [
    "x_train.head()"
   ]
  },
  {
   "cell_type": "markdown",
   "metadata": {
    "colab_type": "text",
    "id": "pvP3H5QzC1iW"
   },
   "source": [
    "## MLP"
   ]
  },
  {
   "cell_type": "markdown",
   "metadata": {
    "colab_type": "text",
    "id": "v4ctGxAYC1iZ"
   },
   "source": [
    "#### Bigram"
   ]
  },
  {
   "cell_type": "code",
   "execution_count": 0,
   "metadata": {
    "colab": {},
    "colab_type": "code",
    "id": "Ies8cbRNKF8S"
   },
   "outputs": [],
   "source": [
    "#Bigram vectorization\n",
    "vectorizer = CountVectorizer(ngram_range=(0,2))\n",
    "X_train = vectorizer.fit_transform(preprocess_train)\n",
    "X_test = vectorizer.transform(preprocess_test)\n",
    "X_dev = vectorizer.transform(preprocess_dev)\n",
    "#print(vectorizer.get_feature_names())"
   ]
  },
  {
   "cell_type": "code",
   "execution_count": 201,
   "metadata": {
    "colab": {
     "base_uri": "https://localhost:8080/",
     "height": 50
    },
    "colab_type": "code",
    "id": "UDyHYBH6tKYo",
    "outputId": "fb2abed8-5f9b-492a-dac9-9addf6362941"
   },
   "outputs": [
    {
     "data": {
      "text/plain": [
       "<1x434 sparse matrix of type '<class 'numpy.int64'>'\n",
       "\twith 70 stored elements in Compressed Sparse Row format>"
      ]
     },
     "execution_count": 201,
     "metadata": {
      "tags": []
     },
     "output_type": "execute_result"
    }
   ],
   "source": [
    "X_train[0]"
   ]
  },
  {
   "cell_type": "code",
   "execution_count": 0,
   "metadata": {
    "colab": {
     "base_uri": "https://localhost:8080/",
     "height": 34
    },
    "colab_type": "code",
    "id": "J3FcRwSnKF8Z",
    "outputId": "9a5389ff-9fa1-4176-f259-dee02c575ff0"
   },
   "outputs": [
    {
     "data": {
      "text/plain": [
       "(101536, 537)"
      ]
     },
     "execution_count": 11,
     "metadata": {
      "tags": []
     },
     "output_type": "execute_result"
    }
   ],
   "source": [
    "X_test.shape"
   ]
  },
  {
   "cell_type": "code",
   "execution_count": 0,
   "metadata": {
    "colab": {},
    "colab_type": "code",
    "id": "WaAILV1EKF8c"
   },
   "outputs": [],
   "source": [
    "output_dim=1000\n",
    "input_dim=491\n",
    "batch_size=256\n",
    "epoch=20"
   ]
  },
  {
   "cell_type": "code",
   "execution_count": 0,
   "metadata": {
    "colab": {
     "base_uri": "https://localhost:8080/",
     "height": 336
    },
    "colab_type": "code",
    "id": "L7yH-Gc68HYx",
    "outputId": "27528802-4019-44db-e0f2-0049c161286f"
   },
   "outputs": [
    {
     "name": "stdout",
     "output_type": "stream",
     "text": [
      "_________________________________________________________________\n",
      "Layer (type)                 Output Shape              Param #   \n",
      "=================================================================\n",
      "dense_2 (Dense)              (None, 512)               251904    \n",
      "_________________________________________________________________\n",
      "dense_3 (Dense)              (None, 128)               65664     \n",
      "_________________________________________________________________\n",
      "batch_normalization_1 (Batch (None, 128)               512       \n",
      "_________________________________________________________________\n",
      "dropout_1 (Dropout)          (None, 128)               0         \n",
      "_________________________________________________________________\n",
      "dense_4 (Dense)              (None, 64)                8256      \n",
      "_________________________________________________________________\n",
      "dense_5 (Dense)              (None, 1000)              65000     \n",
      "=================================================================\n",
      "Total params: 391,336\n",
      "Trainable params: 391,080\n",
      "Non-trainable params: 256\n",
      "_________________________________________________________________\n"
     ]
    }
   ],
   "source": [
    "#building a model\n",
    "model = Sequential()\n",
    "\n",
    "model.add(Dense(512, input_dim=input_dim,activation='relu',kernel_initializer=RandomNormal(mean=0.0, stddev=0.062, seed=None)))\n",
    "\n",
    "model.add(Dense(128,activation='relu',kernel_initializer=RandomNormal(mean=0.0, stddev=0.125, seed=None)))\n",
    "model.add(BatchNormalization())\n",
    "model.add(Dropout(0.2))\n",
    "model.add(Dense(64,activation='relu',kernel_initializer=RandomNormal(mean=0.0, stddev=0.17, seed=None)))\n",
    "model.add(Dense(1000,activation='softmax'))\n",
    "model.summary()"
   ]
  },
  {
   "cell_type": "code",
   "execution_count": 0,
   "metadata": {
    "colab": {
     "base_uri": "https://localhost:8080/",
     "height": 1000
    },
    "colab_type": "code",
    "id": "Me_MWSWPKF8x",
    "outputId": "c8cf8a7b-a53d-4d1f-f60b-de388774eb59",
    "scrolled": false
   },
   "outputs": [
    {
     "name": "stdout",
     "output_type": "stream",
     "text": [
      "Train on 439493 samples, validate on 48262 samples\n",
      "Epoch 1/20\n",
      "439493/439493 [==============================] - 21s 48us/step - loss: 2.4501 - acc: 0.4631 - val_loss: 1.0182 - val_acc: 0.7444\n",
      "\n",
      "Epoch 00001: val_acc improved from -inf to 0.74437, saving model to best_model_bow_bigram.h5\n",
      "Epoch 2/20\n",
      "439493/439493 [==============================] - 16s 37us/step - loss: 1.1906 - acc: 0.6938 - val_loss: 0.7759 - val_acc: 0.8006\n",
      "\n",
      "Epoch 00002: val_acc improved from 0.74437 to 0.80063, saving model to best_model_bow_bigram.h5\n",
      "Epoch 3/20\n",
      "439493/439493 [==============================] - 17s 38us/step - loss: 0.9418 - acc: 0.7529 - val_loss: 0.6044 - val_acc: 0.8423\n",
      "\n",
      "Epoch 00003: val_acc improved from 0.80063 to 0.84230, saving model to best_model_bow_bigram.h5\n",
      "Epoch 4/20\n",
      "439493/439493 [==============================] - 19s 42us/step - loss: 0.8146 - acc: 0.7839 - val_loss: 0.6140 - val_acc: 0.8391\n",
      "\n",
      "Epoch 00004: val_acc did not improve from 0.84230\n",
      "Epoch 5/20\n",
      "439493/439493 [==============================] - 18s 42us/step - loss: 0.7320 - acc: 0.8036 - val_loss: 0.5042 - val_acc: 0.8646\n",
      "\n",
      "Epoch 00005: val_acc improved from 0.84230 to 0.86457, saving model to best_model_bow_bigram.h5\n",
      "Epoch 6/20\n",
      "439493/439493 [==============================] - 17s 40us/step - loss: 0.6719 - acc: 0.8189 - val_loss: 0.4755 - val_acc: 0.8727\n",
      "\n",
      "Epoch 00006: val_acc improved from 0.86457 to 0.87267, saving model to best_model_bow_bigram.h5\n",
      "Epoch 7/20\n",
      "439493/439493 [==============================] - 18s 41us/step - loss: 0.6199 - acc: 0.8313 - val_loss: 0.4325 - val_acc: 0.8842\n",
      "\n",
      "Epoch 00007: val_acc improved from 0.87267 to 0.88424, saving model to best_model_bow_bigram.h5\n",
      "Epoch 8/20\n",
      "439493/439493 [==============================] - 17s 39us/step - loss: 0.5843 - acc: 0.8413 - val_loss: 0.4063 - val_acc: 0.8915\n",
      "\n",
      "Epoch 00008: val_acc improved from 0.88424 to 0.89149, saving model to best_model_bow_bigram.h5\n",
      "Epoch 9/20\n",
      "439493/439493 [==============================] - 18s 41us/step - loss: 0.5491 - acc: 0.8493 - val_loss: 0.3992 - val_acc: 0.8925\n",
      "\n",
      "Epoch 00009: val_acc improved from 0.89149 to 0.89250, saving model to best_model_bow_bigram.h5\n",
      "Epoch 10/20\n",
      "439493/439493 [==============================] - 18s 41us/step - loss: 0.5202 - acc: 0.8567 - val_loss: 0.3886 - val_acc: 0.8955\n",
      "\n",
      "Epoch 00010: val_acc improved from 0.89250 to 0.89553, saving model to best_model_bow_bigram.h5\n",
      "Epoch 11/20\n",
      "439493/439493 [==============================] - 18s 42us/step - loss: 0.4940 - acc: 0.8632 - val_loss: 0.3723 - val_acc: 0.8994\n",
      "\n",
      "Epoch 00011: val_acc improved from 0.89553 to 0.89938, saving model to best_model_bow_bigram.h5\n",
      "Epoch 12/20\n",
      "439493/439493 [==============================] - 18s 41us/step - loss: 0.4708 - acc: 0.8694 - val_loss: 0.3606 - val_acc: 0.9029\n",
      "\n",
      "Epoch 00012: val_acc improved from 0.89938 to 0.90290, saving model to best_model_bow_bigram.h5\n",
      "Epoch 13/20\n",
      "439493/439493 [==============================] - 18s 41us/step - loss: 0.4507 - acc: 0.8739 - val_loss: 0.3457 - val_acc: 0.9049\n",
      "\n",
      "Epoch 00013: val_acc improved from 0.90290 to 0.90491, saving model to best_model_bow_bigram.h5\n",
      "Epoch 14/20\n",
      "439493/439493 [==============================] - 15s 33us/step - loss: 0.4313 - acc: 0.8793 - val_loss: 0.3582 - val_acc: 0.9034\n",
      "\n",
      "Epoch 00014: val_acc did not improve from 0.90491\n",
      "Epoch 15/20\n",
      "439493/439493 [==============================] - 14s 33us/step - loss: 0.4167 - acc: 0.8828 - val_loss: 0.3541 - val_acc: 0.9044\n",
      "\n",
      "Epoch 00015: val_acc did not improve from 0.90491\n",
      "Epoch 16/20\n",
      "439493/439493 [==============================] - 14s 32us/step - loss: 0.4019 - acc: 0.8865 - val_loss: 0.3564 - val_acc: 0.9051\n",
      "\n",
      "Epoch 00016: val_acc improved from 0.90491 to 0.90508, saving model to best_model_bow_bigram.h5\n",
      "Epoch 17/20\n",
      "439493/439493 [==============================] - 14s 33us/step - loss: 0.3877 - acc: 0.8900 - val_loss: 0.3263 - val_acc: 0.9120\n",
      "\n",
      "Epoch 00017: val_acc improved from 0.90508 to 0.91204, saving model to best_model_bow_bigram.h5\n",
      "Epoch 18/20\n",
      "439493/439493 [==============================] - 14s 33us/step - loss: 0.3755 - acc: 0.8929 - val_loss: 0.3254 - val_acc: 0.9122\n",
      "\n",
      "Epoch 00018: val_acc improved from 0.91204 to 0.91225, saving model to best_model_bow_bigram.h5\n",
      "Epoch 19/20\n",
      "439493/439493 [==============================] - 14s 33us/step - loss: 0.3638 - acc: 0.8965 - val_loss: 0.3151 - val_acc: 0.9156\n",
      "\n",
      "Epoch 00019: val_acc improved from 0.91225 to 0.91561, saving model to best_model_bow_bigram.h5\n",
      "Epoch 20/20\n",
      "439493/439493 [==============================] - 14s 32us/step - loss: 0.3543 - acc: 0.8987 - val_loss: 0.3240 - val_acc: 0.9117\n",
      "\n",
      "Epoch 00020: val_acc did not improve from 0.91561\n"
     ]
    },
    {
     "data": {
      "image/png": "[encoded data removed]",
      "text/plain": [
       "<Figure size 432x288 with 1 Axes>"
      ]
     },
     "metadata": {
      "tags": []
     },
     "output_type": "display_data"
    }
   ],
   "source": [
    "#https://machinelearningmastery.com/how-to-stop-training-deep-neural-networks-at-the-right-time-using-early-stopping/\n",
    "#compiling and fitting the model\n",
    "model.compile(optimizer='adam',loss='categorical_crossentropy',metrics=['accuracy'])\n",
    "\n",
    "\n",
    "es = EarlyStopping(monitor='val_loss', mode='min', verbose=1, patience=4)\n",
    "mc = ModelCheckpoint('best_model_bow_bigram.h5', monitor='val_acc', mode='max', verbose=1, save_best_only=True)\n",
    "# fit model\n",
    "history = model.fit(X_train,y_train,batch_size=batch_size,epochs=epoch,verbose=1,validation_data=(X_dev,y_dev), callbacks=[es, mc])\n",
    "\n",
    "# plot training history\n",
    "plt.plot(history.history['loss'], label='train loss')\n",
    "plt.plot(history.history['val_loss'], label='val loss')\n",
    "plt.title('train vs val loss')\n",
    "plt.xlabel('epoch')\n",
    "plt.ylabel('loss')\n",
    "plt.legend()\n",
    "plt.show()"
   ]
  },
  {
   "cell_type": "code",
   "execution_count": 0,
   "metadata": {
    "colab": {
     "base_uri": "https://localhost:8080/",
     "height": 34
    },
    "colab_type": "code",
    "id": "JRNnN3qloWne",
    "outputId": "fcd09af0-625e-4e54-b435-0874c62bd3d2"
   },
   "outputs": [
    {
     "name": "stdout",
     "output_type": "stream",
     "text": [
      "f1 score is  0.9092660892627741\n"
     ]
    }
   ],
   "source": [
    "test_pred=model.predict(X_test)\n",
    "print('f1 score is ',f1_score(np.argmax(test_pred, axis=1), np.argmax(y_test, axis=1),average='micro'))"
   ]
  },
  {
   "cell_type": "code",
   "execution_count": 0,
   "metadata": {
    "colab": {
     "base_uri": "https://localhost:8080/",
     "height": 50
    },
    "colab_type": "code",
    "id": "eFZ9oaJYKF83",
    "outputId": "bf255e23-15e7-432a-f8c5-5fb4526e1783"
   },
   "outputs": [
    {
     "name": "stdout",
     "output_type": "stream",
     "text": [
      "Train loss: 0.190, Test loss: 0.336, Dev loss : 0.324030\n",
      "Train accuracy: 0.946, Test accuracy: 0.909, Dev accuracy : 0.911732\n"
     ]
    }
   ],
   "source": [
    "# load the saved model\n",
    "#saved_model = load_model('best_model_bow_bigram.h5')\n",
    "# evaluate the model\n",
    "train_acc = model.evaluate(X_train,y_train, verbose=0)\n",
    "test_acc = model.evaluate(X_test,y_test, verbose=0)\n",
    "dev_acc = model.evaluate(X_dev,y_dev, verbose=0)\n",
    "print('Train loss: %.3f, Test loss: %.3f, Dev loss : %3f' % (train_acc[0], test_acc[0],dev_acc[0]))\n",
    "print('Train accuracy: %.3f, Test accuracy: %.3f, Dev accuracy : %3f' % (train_acc[1], test_acc[1],dev_acc[1]))\n",
    "\n"
   ]
  },
  {
   "cell_type": "markdown",
   "metadata": {
    "colab_type": "text",
    "id": "dPOlgMa9cbgw"
   },
   "source": [
    "####  Trigram"
   ]
  },
  {
   "cell_type": "code",
   "execution_count": 0,
   "metadata": {
    "colab": {},
    "colab_type": "code",
    "id": "uN06euX0cbI9"
   },
   "outputs": [],
   "source": [
    "#Trigram vectorization of the dataset\n",
    "vectorizer = CountVectorizer(ngram_range=(1,3))\n",
    "X_train = vectorizer.fit_transform(preprocess_train)\n",
    "X_test = vectorizer.transform(preprocess_test)\n",
    "X_dev = vectorizer.transform(preprocess_dev)"
   ]
  },
  {
   "cell_type": "code",
   "execution_count": 0,
   "metadata": {
    "colab": {
     "base_uri": "https://localhost:8080/",
     "height": 34
    },
    "colab_type": "code",
    "id": "lTAyV7a_dn5s",
    "outputId": "164ad537-d9e3-42de-ac6e-aeef90a188d8"
   },
   "outputs": [
    {
     "data": {
      "text/plain": [
       "(439493, 9085)"
      ]
     },
     "execution_count": 28,
     "metadata": {
      "tags": []
     },
     "output_type": "execute_result"
    }
   ],
   "source": [
    "X_train.shape"
   ]
  },
  {
   "cell_type": "code",
   "execution_count": 0,
   "metadata": {
    "colab": {},
    "colab_type": "code",
    "id": "t9Jci4vYfDM4"
   },
   "outputs": [],
   "source": [
    "output_dim=1000\n",
    "input_dim=9085\n",
    "batch_size=256\n",
    "epoch=20"
   ]
  },
  {
   "cell_type": "code",
   "execution_count": 0,
   "metadata": {
    "colab": {
     "base_uri": "https://localhost:8080/",
     "height": 336
    },
    "colab_type": "code",
    "id": "yOUOvX7x9wi1",
    "outputId": "8f79f439-a3e8-4890-f213-d56d371f6f9e"
   },
   "outputs": [
    {
     "name": "stdout",
     "output_type": "stream",
     "text": [
      "_________________________________________________________________\n",
      "Layer (type)                 Output Shape              Param #   \n",
      "=================================================================\n",
      "dense_14 (Dense)             (None, 512)               4652032   \n",
      "_________________________________________________________________\n",
      "dense_15 (Dense)             (None, 128)               65664     \n",
      "_________________________________________________________________\n",
      "batch_normalization_4 (Batch (None, 128)               512       \n",
      "_________________________________________________________________\n",
      "dropout_4 (Dropout)          (None, 128)               0         \n",
      "_________________________________________________________________\n",
      "dense_16 (Dense)             (None, 64)                8256      \n",
      "_________________________________________________________________\n",
      "dense_17 (Dense)             (None, 1000)              65000     \n",
      "=================================================================\n",
      "Total params: 4,791,464\n",
      "Trainable params: 4,791,208\n",
      "Non-trainable params: 256\n",
      "_________________________________________________________________\n"
     ]
    }
   ],
   "source": [
    "#building the model\n",
    "\n",
    "model = Sequential()\n",
    "\n",
    "model.add(Dense(512, input_dim=input_dim,activation='relu',kernel_initializer=RandomNormal(mean=0.0, stddev=0.062, seed=None)))\n",
    "\n",
    "model.add(Dense(128,activation='relu',kernel_initializer=RandomNormal(mean=0.0, stddev=0.125, seed=None)))\n",
    "model.add(BatchNormalization())\n",
    "model.add(Dropout(0.2))\n",
    "model.add(Dense(64,activation='relu',kernel_initializer=RandomNormal(mean=0.0, stddev=0.17, seed=None)))\n",
    "model.add(Dense(1000,activation='softmax'))\n",
    "model.summary()"
   ]
  },
  {
   "cell_type": "code",
   "execution_count": 0,
   "metadata": {
    "colab": {
     "base_uri": "https://localhost:8080/",
     "height": 1000
    },
    "colab_type": "code",
    "id": "nkvwvOrQc4qw",
    "outputId": "b4de6bf9-87e0-461c-9834-cd44543912a7",
    "scrolled": false
   },
   "outputs": [
    {
     "name": "stdout",
     "output_type": "stream",
     "text": [
      "Train on 439493 samples, validate on 48262 samples\n",
      "Epoch 1/20\n",
      "439493/439493 [==============================] - 43s 99us/step - loss: 1.7611 - acc: 0.6335 - val_loss: 0.5084 - val_acc: 0.8712\n",
      "\n",
      "Epoch 00001: val_acc improved from -inf to 0.87118, saving model to best_model_bow_trigram.h5\n",
      "Epoch 2/20\n",
      "439493/439493 [==============================] - 42s 95us/step - loss: 0.4523 - acc: 0.8790 - val_loss: 0.3579 - val_acc: 0.9069\n",
      "\n",
      "Epoch 00002: val_acc improved from 0.87118 to 0.90692, saving model to best_model_bow_trigram.h5\n",
      "Epoch 3/20\n",
      "439493/439493 [==============================] - 42s 96us/step - loss: 0.2564 - acc: 0.9274 - val_loss: 0.3269 - val_acc: 0.9173\n",
      "\n",
      "Epoch 00003: val_acc improved from 0.90692 to 0.91728, saving model to best_model_bow_trigram.h5\n",
      "Epoch 4/20\n",
      "439493/439493 [==============================] - 43s 97us/step - loss: 0.1723 - acc: 0.9486 - val_loss: 0.3217 - val_acc: 0.9211\n",
      "\n",
      "Epoch 00004: val_acc improved from 0.91728 to 0.92110, saving model to best_model_bow_trigram.h5\n",
      "Epoch 5/20\n",
      "439493/439493 [==============================] - 42s 96us/step - loss: 0.1288 - acc: 0.9608 - val_loss: 0.3473 - val_acc: 0.9188\n",
      "\n",
      "Epoch 00005: val_acc did not improve from 0.92110\n",
      "Epoch 6/20\n",
      "439493/439493 [==============================] - 42s 96us/step - loss: 0.1044 - acc: 0.9676 - val_loss: 0.3330 - val_acc: 0.9265\n",
      "\n",
      "Epoch 00006: val_acc improved from 0.92110 to 0.92646, saving model to best_model_bow_trigram.h5\n",
      "Epoch 7/20\n",
      "439493/439493 [==============================] - 42s 97us/step - loss: 0.0875 - acc: 0.9728 - val_loss: 0.3306 - val_acc: 0.9277\n",
      "\n",
      "Epoch 00007: val_acc improved from 0.92646 to 0.92769, saving model to best_model_bow_trigram.h5\n",
      "Epoch 8/20\n",
      "439493/439493 [==============================] - 41s 94us/step - loss: 0.0764 - acc: 0.9762 - val_loss: 0.3467 - val_acc: 0.9258\n",
      "\n",
      "Epoch 00008: val_acc did not improve from 0.92769\n",
      "Epoch 9/20\n",
      "439493/439493 [==============================] - 42s 96us/step - loss: 0.0683 - acc: 0.9788 - val_loss: 0.3351 - val_acc: 0.9285\n",
      "\n",
      "Epoch 00009: val_acc improved from 0.92769 to 0.92854, saving model to best_model_bow_trigram.h5\n",
      "Epoch 10/20\n",
      "439493/439493 [==============================] - 42s 96us/step - loss: 0.0613 - acc: 0.9810 - val_loss: 0.3389 - val_acc: 0.9318\n",
      "\n",
      "Epoch 00010: val_acc improved from 0.92854 to 0.93177, saving model to best_model_bow_trigram.h5\n",
      "Epoch 11/20\n",
      "439493/439493 [==============================] - 42s 96us/step - loss: 0.0566 - acc: 0.9826 - val_loss: 0.3478 - val_acc: 0.9309\n",
      "\n",
      "Epoch 00011: val_acc did not improve from 0.93177\n",
      "Epoch 12/20\n",
      "439493/439493 [==============================] - 42s 96us/step - loss: 0.0516 - acc: 0.9842 - val_loss: 0.3555 - val_acc: 0.9309\n",
      "\n",
      "Epoch 00012: val_acc did not improve from 0.93177\n",
      "Epoch 00012: early stopping\n"
     ]
    },
    {
     "data": {
      "image/png": "[encoded data removed]",
      "text/plain": [
       "<Figure size 432x288 with 1 Axes>"
      ]
     },
     "metadata": {
      "tags": []
     },
     "output_type": "display_data"
    }
   ],
   "source": [
    "#compiling and fitting the model\n",
    "model.compile(optimizer='adam',loss='categorical_crossentropy',metrics=['accuracy'])\n",
    "\n",
    "es = EarlyStopping(monitor='val_loss', mode='min', verbose=1, patience=8)\n",
    "mc = ModelCheckpoint('best_model_bow_trigram.h5', monitor='val_acc', mode='max', verbose=1, save_best_only=True)\n",
    "# fit model\n",
    "history = model.fit(X_train,y_train,batch_size=batch_size,epochs=epoch,verbose=1,validation_data=(X_dev,y_dev), callbacks=[es, mc])\n",
    "\n",
    "# plot training history\n",
    "plt.plot(history.history['loss'], label='train loss')\n",
    "plt.plot(history.history['val_loss'], label='val loss')\n",
    "plt.title('train vs val loss')\n",
    "plt.xlabel('epoch')\n",
    "plt.ylabel('loss')\n",
    "plt.legend()\n",
    "plt.show()"
   ]
  },
  {
   "cell_type": "code",
   "execution_count": 0,
   "metadata": {
    "colab": {
     "base_uri": "https://localhost:8080/",
     "height": 34
    },
    "colab_type": "code",
    "id": "jHHqK_bDoWoH",
    "outputId": "9ed8b6b7-4634-4ccc-b9c5-3def7009575d"
   },
   "outputs": [
    {
     "name": "stdout",
     "output_type": "stream",
     "text": [
      "f1 score is  0.9308980150014504\n"
     ]
    }
   ],
   "source": [
    "#saved_model = load_model('best_model_bow_trigram.h5')\n",
    "#train_pred=saved_model.predict(X_train)\n",
    "test_pred=model.predict(X_test)\n",
    "print('f1 score is ',f1_score(np.argmax(test_pred, axis=1), np.argmax(y_test, axis=1),average='micro'))"
   ]
  },
  {
   "cell_type": "code",
   "execution_count": 0,
   "metadata": {
    "colab": {
     "base_uri": "https://localhost:8080/",
     "height": 50
    },
    "colab_type": "code",
    "id": "9V3AEQFzc4na",
    "outputId": "4ed4e856-66d3-47fe-9733-5890f5fa5ee6"
   },
   "outputs": [
    {
     "name": "stdout",
     "output_type": "stream",
     "text": [
      "Train loss: 0.012, Test loss: 0.352, Dev loss : 0.355531\n",
      "Train accuracy: 0.997, Test accuracy: 0.931, Dev accuracy : 0.930919\n"
     ]
    }
   ],
   "source": [
    "# load the saved model\n",
    "\n",
    "# evaluate the model\n",
    "train_acc = model.evaluate(X_train,y_train, verbose=0)\n",
    "test_acc = model.evaluate(X_test,y_test, verbose=0)\n",
    "dev_acc = model.evaluate(X_dev,y_dev, verbose=0)\n",
    "print('Train loss: %.3f, Test loss: %.3f, Dev loss : %3f' % (train_acc[0], test_acc[0],dev_acc[0]))\n",
    "print('Train accuracy: %.3f, Test accuracy: %.3f, Dev accuracy : %3f' % (train_acc[1], test_acc[1],dev_acc[1]))\n"
   ]
  },
  {
   "cell_type": "markdown",
   "metadata": {
    "colab_type": "text",
    "id": "jloDUyHMxSe0"
   },
   "source": [
    "## LSTM\n"
   ]
  },
  {
   "cell_type": "code",
   "execution_count": 0,
   "metadata": {
    "colab": {},
    "colab_type": "code",
    "id": "pNug7aJlUSvv"
   },
   "outputs": [],
   "source": [
    "train_top=train.groupby('family_id').size().sort_values(ascending=False).head(1000)\n",
    "\n",
    "dev_top=dev.groupby('family_id').size().sort_values(ascending=False).head(800)\n",
    "\n",
    "test_top=test.groupby('family_id').size().sort_values(ascending=False).head(800)\n"
   ]
  },
  {
   "cell_type": "code",
   "execution_count": 0,
   "metadata": {
    "colab": {
     "base_uri": "https://localhost:8080/",
     "height": 67
    },
    "colab_type": "code",
    "id": "Yy9KyaFCUStP",
    "outputId": "0ef53f4e-9ac0-43d1-a718-038cd06a3781"
   },
   "outputs": [
    {
     "name": "stderr",
     "output_type": "stream",
     "text": [
      "100%|██████████| 439493/439493 [00:28<00:00, 15393.66it/s]\n",
      "100%|██████████| 48262/48262 [00:03<00:00, 15711.97it/s]\n",
      "100%|██████████| 48262/48262 [00:03<00:00, 15777.79it/s]\n"
     ]
    }
   ],
   "source": [
    "\n",
    "x_train,x_test,x_dev,y_train,y_test,y_dev= get_allocate_value(train_top,test_top,dev_top)\n",
    "y_train,y_test,y_dev=encode(y_train,y_test,y_dev)\n",
    "preprocess_train, preprocess_test, preprocess_dev= preprocess(x_train,x_test,x_dev)"
   ]
  },
  {
   "cell_type": "code",
   "execution_count": 0,
   "metadata": {
    "colab": {
     "base_uri": "https://localhost:8080/",
     "height": 34
    },
    "colab_type": "code",
    "id": "IDRubDVyc4W2",
    "outputId": "46152ffb-e7b0-45e6-fe05-1fa1864e6322"
   },
   "outputs": [
    {
     "name": "stderr",
     "output_type": "stream",
     "text": [
      "100%|██████████| 439493/439493 [00:09<00:00, 47442.20it/s]\n"
     ]
    }
   ],
   "source": [
    "vocab=[]\n",
    "\n",
    "for sent in tqdm(preprocess_train):\n",
    "    words=sent.split(\" \")    \n",
    "    vocab.append(words)\n",
    "    \n",
    "vocab_all=[]\n",
    "for a in vocab:\n",
    "    for x in a:\n",
    "        vocab_all.append(x)\n",
    "vocab_all=set(vocab_all)\n",
    "# initialising all words with 0\n",
    "vocabulary=dict([(x,0) for x in vocab_all])"
   ]
  },
  {
   "cell_type": "code",
   "execution_count": 0,
   "metadata": {
    "colab": {
     "base_uri": "https://localhost:8080/",
     "height": 34
    },
    "colab_type": "code",
    "id": "Qi78j4vic4Pz",
    "outputId": "6794ebf3-3ab7-4612-d1e4-49036bef01db"
   },
   "outputs": [
    {
     "name": "stderr",
     "output_type": "stream",
     "text": [
      "100%|██████████| 439493/439493 [00:27<00:00, 15911.86it/s]\n"
     ]
    }
   ],
   "source": [
    "#counting the occurence of each word\n",
    "count=0\n",
    "for sent in tqdm(preprocess_train):\n",
    "    \n",
    "    words=sent.split(\" \")\n",
    "    \n",
    "    for x in words:\n",
    "        if x in vocabulary.keys():\n",
    "            vocabulary[x]+=1"
   ]
  },
  {
   "cell_type": "code",
   "execution_count": 0,
   "metadata": {
    "colab": {
     "base_uri": "https://localhost:8080/",
     "height": 420
    },
    "colab_type": "code",
    "id": "UF6osP6_c4LL",
    "outputId": "904a57a3-cdb4-4aaa-ea0e-f390aa32c50b",
    "scrolled": true
   },
   "outputs": [
    {
     "data": {
      "text/plain": [
       "{'Ala': 5988777,\n",
       " 'Arg': 3609908,\n",
       " 'Asn': 2433797,\n",
       " 'Asp': 3576954,\n",
       " 'Asx': 6,\n",
       " 'Cys': 851185,\n",
       " 'Gln': 2220574,\n",
       " 'Glu': 4109154,\n",
       " 'Gly': 5052648,\n",
       " 'His': 1410422,\n",
       " 'Ile': 4262868,\n",
       " 'Leu': 6592761,\n",
       " 'Lys': 3410226,\n",
       " 'Met': 1510065,\n",
       " 'Phe': 2698086,\n",
       " 'Pro': 2779165,\n",
       " 'Pyl': 1,\n",
       " 'Sec': 7,\n",
       " 'Ser': 3794491,\n",
       " 'Thr': 3502984,\n",
       " 'Trp': 790541,\n",
       " 'Tyr': 2069051,\n",
       " 'Val': 4916553,\n",
       " 'Xaa': 410}"
      ]
     },
     "execution_count": 44,
     "metadata": {
      "tags": []
     },
     "output_type": "execute_result"
    }
   ],
   "source": [
    "vocabulary"
   ]
  },
  {
   "cell_type": "code",
   "execution_count": 0,
   "metadata": {
    "colab": {
     "base_uri": "https://localhost:8080/",
     "height": 195
    },
    "colab_type": "code",
    "id": "sOZZIcZKMulx",
    "outputId": "4bf4171b-80bc-490c-b4e9-ac4b1e3c5ddb"
   },
   "outputs": [
    {
     "data": {
      "text/html": [
       "<div>\n",
       "<style scoped>\n",
       "    .dataframe tbody tr th:only-of-type {\n",
       "        vertical-align: middle;\n",
       "    }\n",
       "\n",
       "    .dataframe tbody tr th {\n",
       "        vertical-align: top;\n",
       "    }\n",
       "\n",
       "    .dataframe thead th {\n",
       "        text-align: right;\n",
       "    }\n",
       "</style>\n",
       "<table border=\"1\" class=\"dataframe\">\n",
       "  <thead>\n",
       "    <tr style=\"text-align: right;\">\n",
       "      <th></th>\n",
       "      <th>index</th>\n",
       "      <th>words</th>\n",
       "      <th>count</th>\n",
       "    </tr>\n",
       "  </thead>\n",
       "  <tbody>\n",
       "    <tr>\n",
       "      <th>0</th>\n",
       "      <td>12</td>\n",
       "      <td>Leu</td>\n",
       "      <td>6592761</td>\n",
       "    </tr>\n",
       "    <tr>\n",
       "      <th>1</th>\n",
       "      <td>22</td>\n",
       "      <td>Ala</td>\n",
       "      <td>5988777</td>\n",
       "    </tr>\n",
       "    <tr>\n",
       "      <th>2</th>\n",
       "      <td>13</td>\n",
       "      <td>Gly</td>\n",
       "      <td>5052648</td>\n",
       "    </tr>\n",
       "    <tr>\n",
       "      <th>3</th>\n",
       "      <td>10</td>\n",
       "      <td>Val</td>\n",
       "      <td>4916553</td>\n",
       "    </tr>\n",
       "    <tr>\n",
       "      <th>4</th>\n",
       "      <td>21</td>\n",
       "      <td>Ile</td>\n",
       "      <td>4262868</td>\n",
       "    </tr>\n",
       "  </tbody>\n",
       "</table>\n",
       "</div>"
      ],
      "text/plain": [
       "   index words    count\n",
       "0     12   Leu  6592761\n",
       "1     22   Ala  5988777\n",
       "2     13   Gly  5052648\n",
       "3     10   Val  4916553\n",
       "4     21   Ile  4262868"
      ]
     },
     "execution_count": 45,
     "metadata": {
      "tags": []
     },
     "output_type": "execute_result"
    }
   ],
   "source": [
    "# converting into dataframe \n",
    "vocab_df= pd.DataFrame(list(vocabulary.items()), columns=['words', 'count'])\n",
    "#sorting and getting the indices\n",
    "vocab_df=vocab_df.sort_values(by='count',ascending=False)\n",
    "top_vocab_df=vocab_df\n",
    "top_vocab_df=top_vocab_df.reset_index()\n",
    "\n",
    "vocab_dict={}\n",
    "top_vocab_df.head()"
   ]
  },
  {
   "cell_type": "code",
   "execution_count": 0,
   "metadata": {
    "colab": {
     "base_uri": "https://localhost:8080/",
     "height": 34
    },
    "colab_type": "code",
    "id": "FCl1cs7tMul6",
    "outputId": "ecbb8290-8412-4d7b-fb6e-2acbdb5d07dc"
   },
   "outputs": [
    {
     "name": "stderr",
     "output_type": "stream",
     "text": [
      "100%|██████████| 439493/439493 [00:23<00:00, 18479.62it/s]\n"
     ]
    }
   ],
   "source": [
    "#converting sentences to list of indexes\n",
    "vocab_dict=dict(zip(top_vocab_df['words'],top_vocab_df.index))\n",
    "count=0\n",
    "all_words_list=[]\n",
    "all_words_set=[]\n",
    "train_vocab=[]\n",
    "all_words_list=top_vocab_df['words'].tolist()\n",
    "all_words_set=set(all_words_list)\n",
    "for sent in tqdm(preprocess_train):\n",
    "    sent_index=[]\n",
    "   # print(sent)\n",
    "    i=0\n",
    "    word=sent.split(\" \")\n",
    "    \n",
    "    for a in word:\n",
    "        if a in all_words_set:\n",
    "            sent_index.append(vocab_dict[a])\n",
    "    train_vocab.append(sent_index)\n",
    "    "
   ]
  },
  {
   "cell_type": "code",
   "execution_count": 0,
   "metadata": {
    "colab": {
     "base_uri": "https://localhost:8080/",
     "height": 50
    },
    "colab_type": "code",
    "id": "7dwaFAnxMul9",
    "outputId": "034804f4-45ba-48c5-f57e-09caf8cfdd2f"
   },
   "outputs": [
    {
     "name": "stderr",
     "output_type": "stream",
     "text": [
      "100%|██████████| 48262/48262 [00:02<00:00, 20993.15it/s]\n",
      "100%|██████████| 48262/48262 [00:04<00:00, 11200.25it/s]\n"
     ]
    }
   ],
   "source": [
    "#similary converting dev and test into list of indices\n",
    "dev_vocab=[]\n",
    "for sent in tqdm(preprocess_dev):\n",
    "    sent_index=[]\n",
    "   # print(sent)\n",
    "    i=0\n",
    "    word=sent.split(\" \")\n",
    "    \n",
    "    for a in word:\n",
    "        if a in all_words_set:\n",
    "            sent_index.append(vocab_dict[a])\n",
    "    dev_vocab.append(sent_index)\n",
    "\n",
    "\n",
    "test_vocab=[]\n",
    "for sent in tqdm(preprocess_test):\n",
    "    sent_index=[]\n",
    "   # print(sent)\n",
    "    i=0\n",
    "    word=sent.split(\" \")\n",
    "    \n",
    "    for a in word:\n",
    "        if a in all_words_set:\n",
    "            sent_index.append(vocab_dict[a])\n",
    "    test_vocab.append(sent_index)"
   ]
  },
  {
   "cell_type": "code",
   "execution_count": 0,
   "metadata": {
    "colab": {},
    "colab_type": "code",
    "id": "D_J8Y6gEMumL"
   },
   "outputs": [],
   "source": [
    "#padding with 0\n",
    "\n",
    "train_vocab = sequence.pad_sequences(train_vocab, maxlen=max_review_length)\n",
    "test_vocab = sequence.pad_sequences(test_vocab, maxlen=max_review_length)\n",
    "dev_vocab = sequence.pad_sequences(dev_vocab, maxlen=max_review_length)"
   ]
  },
  {
   "cell_type": "code",
   "execution_count": 0,
   "metadata": {
    "colab": {
     "base_uri": "https://localhost:8080/",
     "height": 252
    },
    "colab_type": "code",
    "id": "Qdt_rWkUMumM",
    "outputId": "9f985c69-7240-4607-ea42-c3abf24e4745"
   },
   "outputs": [
    {
     "name": "stdout",
     "output_type": "stream",
     "text": [
      "_________________________________________________________________\n",
      "Layer (type)                 Output Shape              Param #   \n",
      "=================================================================\n",
      "embedding_1 (Embedding)      (None, 100, 32)           160000    \n",
      "_________________________________________________________________\n",
      "lstm_1 (LSTM)                (None, 100)               53200     \n",
      "_________________________________________________________________\n",
      "dense_18 (Dense)             (None, 1000)              101000    \n",
      "=================================================================\n",
      "Total params: 314,200\n",
      "Trainable params: 314,200\n",
      "Non-trainable params: 0\n",
      "_________________________________________________________________\n",
      "None\n"
     ]
    }
   ],
   "source": [
    "\n",
    "embedding_vecor_length = 32\n",
    "model = Sequential()\n",
    "model.add(Embedding(5000, embedding_vecor_length, input_length=max_review_length))\n",
    "model.add(LSTM(100))\n",
    "model.add(Dense(1000, activation='softmax'))\n",
    "model.compile(loss='categorical_crossentropy', optimizer='adam', metrics=['accuracy'])\n",
    "print(model.summary())"
   ]
  },
  {
   "cell_type": "code",
   "execution_count": 0,
   "metadata": {
    "colab": {
     "base_uri": "https://localhost:8080/",
     "height": 1000
    },
    "colab_type": "code",
    "id": "4N0veOa0MumP",
    "outputId": "9155598a-1a32-4a95-f1ca-c2a23f1db9a2",
    "scrolled": true
   },
   "outputs": [
    {
     "name": "stdout",
     "output_type": "stream",
     "text": [
      "Train on 439493 samples, validate on 48262 samples\n",
      "Epoch 1/15\n",
      "439493/439493 [==============================] - 540s 1ms/step - loss: 2.8383 - acc: 0.4833 - val_loss: 1.1691 - val_acc: 0.7592\n",
      "\n",
      "Epoch 00001: val_acc improved from -inf to 0.75917, saving model to best_model_lstm.h5\n",
      "Epoch 2/15\n",
      "439493/439493 [==============================] - 538s 1ms/step - loss: 0.8680 - acc: 0.8158 - val_loss: 0.5929 - val_acc: 0.8734\n",
      "\n",
      "Epoch 00002: val_acc improved from 0.75917 to 0.87340, saving model to best_model_lstm.h5\n",
      "Epoch 3/15\n",
      "439493/439493 [==============================] - 536s 1ms/step - loss: 0.4799 - acc: 0.8950 - val_loss: 0.3742 - val_acc: 0.9176\n",
      "\n",
      "Epoch 00003: val_acc improved from 0.87340 to 0.91764, saving model to best_model_lstm.h5\n",
      "Epoch 4/15\n",
      "439493/439493 [==============================] - 536s 1ms/step - loss: 0.3126 - acc: 0.9304 - val_loss: 0.2691 - val_acc: 0.9386\n",
      "\n",
      "Epoch 00004: val_acc improved from 0.91764 to 0.93863, saving model to best_model_lstm.h5\n",
      "Epoch 5/15\n",
      "439493/439493 [==============================] - 536s 1ms/step - loss: 0.2241 - acc: 0.9493 - val_loss: 0.2101 - val_acc: 0.9503\n",
      "\n",
      "Epoch 00005: val_acc improved from 0.93863 to 0.95029, saving model to best_model_lstm.h5\n",
      "Epoch 6/15\n",
      "439493/439493 [==============================] - 541s 1ms/step - loss: 0.1717 - acc: 0.9609 - val_loss: 0.1769 - val_acc: 0.9576\n",
      "\n",
      "Epoch 00006: val_acc improved from 0.95029 to 0.95759, saving model to best_model_lstm.h5\n",
      "Epoch 7/15\n",
      "439493/439493 [==============================] - 526s 1ms/step - loss: 0.1373 - acc: 0.9689 - val_loss: 0.1545 - val_acc: 0.9635\n",
      "\n",
      "Epoch 00007: val_acc improved from 0.95759 to 0.96349, saving model to best_model_lstm.h5\n",
      "Epoch 8/15\n",
      "439493/439493 [==============================] - 530s 1ms/step - loss: 0.1138 - acc: 0.9743 - val_loss: 0.1367 - val_acc: 0.9665\n",
      "\n",
      "Epoch 00008: val_acc improved from 0.96349 to 0.96654, saving model to best_model_lstm.h5\n",
      "Epoch 9/15\n",
      "439493/439493 [==============================] - 531s 1ms/step - loss: 0.0981 - acc: 0.9775 - val_loss: 0.1248 - val_acc: 0.9684\n",
      "\n",
      "Epoch 00009: val_acc improved from 0.96654 to 0.96844, saving model to best_model_lstm.h5\n",
      "Epoch 10/15\n",
      "439493/439493 [==============================] - 533s 1ms/step - loss: 0.0841 - acc: 0.9808 - val_loss: 0.1188 - val_acc: 0.9705\n",
      "\n",
      "Epoch 00010: val_acc improved from 0.96844 to 0.97047, saving model to best_model_lstm.h5\n",
      "Epoch 11/15\n",
      "439493/439493 [==============================] - 533s 1ms/step - loss: 0.0737 - acc: 0.9835 - val_loss: 0.1109 - val_acc: 0.9727\n",
      "\n",
      "Epoch 00011: val_acc improved from 0.97047 to 0.97269, saving model to best_model_lstm.h5\n",
      "Epoch 12/15\n",
      "439493/439493 [==============================] - 533s 1ms/step - loss: 0.0670 - acc: 0.9848 - val_loss: 0.1022 - val_acc: 0.9735\n",
      "\n",
      "Epoch 00012: val_acc improved from 0.97269 to 0.97354, saving model to best_model_lstm.h5\n",
      "Epoch 13/15\n",
      "439493/439493 [==============================] - 538s 1ms/step - loss: 0.0587 - acc: 0.9866 - val_loss: 0.1013 - val_acc: 0.9741\n",
      "\n",
      "Epoch 00013: val_acc improved from 0.97354 to 0.97406, saving model to best_model_lstm.h5\n",
      "Epoch 14/15\n",
      "439493/439493 [==============================] - 537s 1ms/step - loss: 0.0535 - acc: 0.9878 - val_loss: 0.1001 - val_acc: 0.9741\n",
      "\n",
      "Epoch 00014: val_acc improved from 0.97406 to 0.97414, saving model to best_model_lstm.h5\n",
      "Epoch 15/15\n",
      "439493/439493 [==============================] - 534s 1ms/step - loss: 0.0488 - acc: 0.9888 - val_loss: 0.0972 - val_acc: 0.9742\n",
      "\n",
      "Epoch 00015: val_acc improved from 0.97414 to 0.97424, saving model to best_model_lstm.h5\n"
     ]
    }
   ],
   "source": [
    "es = EarlyStopping(monitor='val_loss', mode='min', verbose=1, patience=7)\n",
    "mc = ModelCheckpoint('best_model_lstm.h5', monitor='val_acc', mode='max', verbose=1, save_best_only=True)\n",
    "# fit model\n",
    "history=model.fit(train_vocab, y_train, nb_epoch=15, batch_size=128,verbose=1,validation_data=(dev_vocab,y_dev),callbacks=[es, mc])\n"
   ]
  },
  {
   "cell_type": "code",
   "execution_count": 0,
   "metadata": {
    "colab": {
     "base_uri": "https://localhost:8080/",
     "height": 295
    },
    "colab_type": "code",
    "id": "PV3YgBXyIsjH",
    "outputId": "b80c24cc-f352-48f5-ab1d-38577b6372b4"
   },
   "outputs": [
    {
     "data": {
      "image/png": "[encoded data removed]",
      "text/plain": [
       "<Figure size 432x288 with 1 Axes>"
      ]
     },
     "metadata": {
      "tags": []
     },
     "output_type": "display_data"
    }
   ],
   "source": [
    " #plotting train and validation loss\n",
    "plt.plot(history.history['loss'], label='train loss')\n",
    "plt.plot(history.history['val_loss'], label='val loss')\n",
    "plt.title('train vs val loss')\n",
    "plt.xlabel('epoch')\n",
    "plt.ylabel('loss')\n",
    "plt.legend()\n",
    "plt.show()\n"
   ]
  },
  {
   "cell_type": "code",
   "execution_count": 0,
   "metadata": {
    "colab": {
     "base_uri": "https://localhost:8080/",
     "height": 50
    },
    "colab_type": "code",
    "id": "TV_u_Sr0oWqZ",
    "outputId": "06718a6e-9d5a-48cf-c77d-727f840ad7a0"
   },
   "outputs": [
    {
     "name": "stdout",
     "output_type": "stream",
     "text": [
      "Train loss: 0.041, Test loss: 0.102, Dev loss : 0.097211\n",
      "Train accuracy: 0.991, Test accuracy: 0.973, Dev accuracy : 0.974245\n"
     ]
    }
   ],
   "source": [
    "\n",
    "# evaluate the model\n",
    "train_acc = model.evaluate(train_vocab, y_train, verbose=0)\n",
    "test_acc = model.evaluate(test_vocab,y_test, verbose=0)\n",
    "dev_acc = model.evaluate(dev_vocab,y_dev, verbose=0)\n",
    "print('Train loss: %.3f, Test loss: %.3f, Dev loss : %3f' % (train_acc[0], test_acc[0],dev_acc[0]))\n",
    "print('Train accuracy: %.3f, Test accuracy: %.3f, Dev accuracy : %3f' % (train_acc[1], test_acc[1],dev_acc[1]))\n"
   ]
  },
  {
   "cell_type": "code",
   "execution_count": 0,
   "metadata": {
    "colab": {
     "base_uri": "https://localhost:8080/",
     "height": 34
    },
    "colab_type": "code",
    "id": "FPFhO55zoWqd",
    "outputId": "e1d081a6-d5bb-4df0-962a-5bce7b9296f8"
   },
   "outputs": [
    {
     "name": "stdout",
     "output_type": "stream",
     "text": [
      "f1 score is  0.9732501761220007\n"
     ]
    }
   ],
   "source": [
    "# load the saved model\n",
    "#saved_model = load_model('best_model_lstm.h5')\n",
    "test_pred=model.predict(test_vocab)\n",
    "print('f1 score is ',f1_score(np.argmax(test_pred, axis=1), np.argmax(y_test, axis=1),average='micro'))"
   ]
  },
  {
   "cell_type": "markdown",
   "metadata": {
    "colab_type": "text",
    "id": "kwjwZD5UC1m1"
   },
   "source": [
    "## Conclusion"
   ]
  },
  {
   "cell_type": "markdown",
   "metadata": {
    "colab_type": "text",
    "id": "m81fPnewC1m3"
   },
   "source": [
    "Objective: Given the amino acid sequence of the protein domain, predict which class it belongs to."
   ]
  },
  {
   "cell_type": "markdown",
   "metadata": {
    "colab_type": "text",
    "id": "Ie7eV4WZC1m4"
   },
   "source": [
    "1. We are given a dataset with  Train, Test and Dev files containing 1086741, 126171, 126171 rows and 5 columns: family_id, sequence_name,sequence,family_accession,aligned_sequence where family_accession is the output label consisting of 17929 classes and sequence is the input.\n",
    "<br>\n",
    "2. We visualize the train and test data and see that the train, test and dev have the same distribution, we perform data analysis and find the family with longest sequence length, most common family etc.\n",
    "<br>\n",
    "3. We see that the 1000 classes cover almost 40% of the dataset and also to reduce the time complexity, we only consider 1000 classes.\n",
    "<br>\n",
    "4. We take Recall and logloss as evaluation metric.\n",
    "<br>\n",
    "5.  We Preprocess the data and check for null values or duplicates and one hot encode the output class. We featurize the data using one hot encoding and converting into L*20 array where each column represents one hot encoding of each amino acid.\n",
    "<br>\n",
    "6. We also featurize the data using BoW bigrams and Trigrams since the input is a sequence of values and apply a mlp and find that both the models have similar accuracy of 93%.\n",
    "<br>\n",
    "7. We implement the protCNN model given in the paper using resnets. We use early stopping to avoid overfitting and save the models.\n",
    "<br>\n",
    "8. Since it is a sequence, we use LSTM model and consider only 1500 most common output classes due to huge training time and pass the indices as input to the model and the accuracy improved to 97%.\n",
    "<br>\n",
    "9. ProtCNN model gives the highest accuracy of 98.889%.\n"
   ]
  },
  {
   "cell_type": "code",
   "execution_count": 21,
   "metadata": {
    "colab": {
     "base_uri": "https://localhost:8080/",
     "height": 151
    },
    "colab_type": "code",
    "id": "6InJQcTWKF9C",
    "outputId": "6e8373a0-632b-4b93-a384-290ddff801d8",
    "scrolled": true
   },
   "outputs": [
    {
     "name": "stdout",
     "output_type": "stream",
     "text": [
      "+-----------+-------------+------------------+----------+----------------+--------------+---------------+\n",
      "| Algorithm | ngram range |    Vectorizor    | F1 score | Train Accuracy | Dev Accuracy | Test Accuracy |\n",
      "+-----------+-------------+------------------+----------+----------------+--------------+---------------+\n",
      "|  PROTCNN  |      -      | One Hot Encoding |  0.987   |      99.9      |     98.9     |      98.8     |\n",
      "|    MLP    |      2      |       BoW        |  0.909   |      94.6      |     91.1     |      90.9     |\n",
      "|    MLP    |      3      |       BoW        |  0.9308  |      99.7      |    93.09     |      93.1     |\n",
      "|   LSTM    |      -      |        -         |  0.973   |      99.1      |     97.4     |      97.3     |\n",
      "+-----------+-------------+------------------+----------+----------------+--------------+---------------+\n"
     ]
    }
   ],
   "source": [
    "from prettytable import PrettyTable\n",
    "\n",
    "x=PrettyTable()\n",
    "\n",
    "x.field_names=['Algorithm','ngram range','Vectorizor','F1 score','Train Accuracy','Dev Accuracy','Test Accuracy']\n",
    "\n",
    "x.add_row(['PROTCNN','-','One Hot Encoding',0.987, 99.9, 98.9,98.8])\n",
    "x.add_row(['MLP',2,'BoW',.909,94.6,91.1,90.9])\n",
    "x.add_row(['MLP',3,'BoW', .9308,99.7,93.09,93.1])\n",
    "x.add_row(['LSTM ','-','-',.973,99.1,97.4,97.3])\n",
    "\n",
    "print(x)"
   ]
  },
  {
   "cell_type": "code",
   "execution_count": 0,
   "metadata": {
    "colab": {},
    "colab_type": "code",
    "id": "vfrXJ8_uG_1U"
   },
   "outputs": [],
   "source": []
  }
 ],
 "metadata": {
  "accelerator": "GPU",
  "colab": {
   "collapsed_sections": [],
   "name": "Pfam_seed_random_split_new.ipynb",
   "provenance": [],
   "toc_visible": true,
   "version": "0.3.2"
  },
  "kernelspec": {
   "display_name": "Python 3",
   "language": "python",
   "name": "python3"
  },
  "language_info": {
   "codemirror_mode": {
    "name": "ipython",
    "version": 3
   },
   "file_extension": ".py",
   "mimetype": "text/x-python",
   "name": "python",
   "nbconvert_exporter": "python",
   "pygments_lexer": "ipython3",
   "version": "3.6.3rc1"
  }
 },
 "nbformat": 4,
 "nbformat_minor": 1
}
